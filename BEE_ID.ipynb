{
 "cells": [
  {
   "cell_type": "code",
   "execution_count": 1,
   "metadata": {
    "id": "hwnTzmkJb01Z"
   },
   "outputs": [],
   "source": [
    "import math \n",
    "import random\n",
    "import numpy as np\n",
    "import copy\n",
    "import matplotlib.pyplot as plt\n",
    "import plotly.express as px\n",
    "import pandas as pd"
   ]
  },
  {
   "cell_type": "code",
   "execution_count": 3,
   "metadata": {
    "id": "CvcsuDwcb5Ai"
   },
   "outputs": [],
   "source": [
    "def bin_space_gen(d):\n",
    "    all_coeff = {}\n",
    "    for i in range(0,2**(d)): \n",
    "        t = i\n",
    "        all_coeff[i] = \"\"\n",
    "        for j in range (0,d):\n",
    "            all_coeff[i]= str(t%2)+all_coeff[i]\n",
    "            t = int(t/2)\n",
    "    return all_coeff"
   ]
  },
  {
   "cell_type": "code",
   "execution_count": 4,
   "metadata": {
    "id": "LbJg1oBxbbYl"
   },
   "outputs": [],
   "source": [
    "def choose(n, k):\n",
    "    \"\"\"\n",
    "    A fast way to calculate binomial coefficients by Andrew Dalke (contrib).\n",
    "    \"\"\"\n",
    "    if 0 <= k <= n:\n",
    "        ntok = 1\n",
    "        ktok = 1\n",
    "        for t in range(1, min(k, n - k) + 1):\n",
    "            ntok *= n\n",
    "            ktok *= t\n",
    "            n -= 1\n",
    "        return ntok // ktok\n",
    "    else:\n",
    "        return 0"
   ]
  },
  {
   "cell_type": "code",
   "execution_count": 5,
   "metadata": {
    "id": "Nz1_xkmqb79R"
   },
   "outputs": [],
   "source": [
    "def BSC(x,p):\n",
    "  y = \"\"\n",
    "  for i in range(len(x)):\n",
    "    if np.random.binomial(1, p):\n",
    "      y += str((int(x[i])+1)%2)\n",
    "    else:\n",
    "      y += x[i]\n",
    "  return y\n",
    "\n",
    "def BEC(x,p):\n",
    "  y = \"\"\n",
    "  for i in range(len(x)):\n",
    "    if np.random.binomial(1, p):\n",
    "      y += \"*\"\n",
    "    else:\n",
    "      y += x[i]\n",
    "  return y\n",
    "\n",
    "\n",
    "def ers_chan(N,C,p):\n",
    "  Y = {}\n",
    "  IO = {}\n",
    "  for i in range(len(C)): \n",
    "    for j in range(N):\n",
    "      y = BEC(C[i],p) \n",
    "      Y[N*i+j] = y\n",
    "      IO[N*i+j] = (C[i],Y[N*i+j])\n",
    "  return Y,IO"
   ]
  },
  {
   "cell_type": "code",
   "execution_count": 7,
   "metadata": {
    "id": "mROEoN52gXi5"
   },
   "outputs": [],
   "source": [
    "def bin_dec(y):\n",
    "  y_dec = 0\n",
    "  for i in range(len(y)):\n",
    "    if(y[i]==\"1\"):\n",
    "      y_dec += 2**(len(y)-i-1)\n",
    "  return y_dec\n",
    "  \n",
    "def dec_bin(y):\n",
    "  y_bin = \"\"\n",
    "  while(y>0):\n",
    "    y_bin = str(y%2) + y_bin\n",
    "    y = int(y/2)\n",
    "  return y_bin\n",
    "\n",
    "def pos_inps(y):\n",
    "  inps = []\n",
    "  ers = []\n",
    "  for i in range(len(y)):\n",
    "    if(y[i]==\"*\"):\n",
    "      ers.append(i)\n",
    "  ers_rep = bin_space_gen(len(ers))\n",
    "  for i in range(len(ers_rep)):\n",
    "    inp = list(y)\n",
    "    for j in range(len(ers)):\n",
    "      inp[ers[j]] = ers_rep[i][j]\n",
    "    inp_str = \"\"\n",
    "    for j in range(len(inp)):\n",
    "      inp_str += inp[j]\n",
    "    inps.append(inp_str)\n",
    "  \n",
    "  return inps\n",
    "\n",
    "def buil_graph_out(IO):\n",
    "  graph_out = {} \n",
    "  for i in range(len(IO)):\n",
    "    y = IO[i][1]\n",
    "    edges = pos_inps(y)\n",
    "    graph_out[i] = (y, edges)\n",
    "  return graph_out"
   ]
  },
  {
   "cell_type": "code",
   "execution_count": 8,
   "metadata": {
    "id": "MZegp71G1Xsw"
   },
   "outputs": [],
   "source": [
    "def build_graph_in(graph_out,C):\n",
    "  graph_in = {}\n",
    "  for i in range(len(C)):\n",
    "    graph_in[i] = (C[i],[])\n",
    "\n",
    "  for i in range(len(graph_out)):\n",
    "    for j in range(len(graph_out[i][1])):\n",
    "      graph_in[bin_dec(graph_out[i][1][j])][1].append(graph_out[i][0])\n",
    "  \n",
    "  return graph_in"
   ]
  },
  {
   "cell_type": "code",
   "execution_count": 7,
   "metadata": {
    "id": "iqh4PkGsr4xy"
   },
   "outputs": [],
   "source": [
    "def peel_out(i,graph_out, graph_in):\n",
    "  out_node = graph_out[i][0]\n",
    "  in_node = graph_out[i][1][0]\n",
    "  \n",
    "  for j in range(len(graph_out)):\n",
    "    if((len(graph_out[j][1]) > 1) and (in_node in graph_out[j][1])):\n",
    "        graph_out[j][1].remove(in_node)\n",
    "\n",
    "  graph_in[bin_dec(in_node)][1].clear()\n",
    "  graph_in[bin_dec(in_node)][1].append(out_node)\n",
    "\n",
    "\n",
    "def peel_in(i,graph_out, graph_in):\n",
    "  in_node = graph_in[i][0]\n",
    "  out_node = graph_in[i][1][0]\n",
    "  \n",
    "  for j in range(len(graph_in)):\n",
    "    if((len(graph_in[j][1]) > 1) and (out_node in graph_in[j][1])):\n",
    "        graph_in[j][1].remove(out_node)\n",
    "\n",
    "  for j in range(len(graph_out)):\n",
    "    if(out_node == graph_out[j][0]):\n",
    "        graph_out[j][1].clear()\n",
    "        graph_out[j][1].append(in_node)\n",
    "\n",
    "def peel_dec(N,C, CNT,graph_out, graph_in):\n",
    "  for _ in range(CNT):\n",
    "    for i in range(len(graph_out)):\n",
    "      if (len(graph_out[i][1])==1):\n",
    "        peel_out(i,graph_out,graph_in)\n",
    "   \n",
    "    for i in range(len(graph_in)):\n",
    "      if (len(graph_in[i][1])==1):\n",
    "        peel_in(i,graph_out,graph_in)\n",
    "\n",
    "  return graph_out,graph_in"
   ]
  },
  {
   "cell_type": "code",
   "execution_count": 8,
   "metadata": {
    "colab": {
     "base_uri": "https://localhost:8080/"
    },
    "id": "rapNLdNV_2h3",
    "outputId": "2b6175e1-d5f5-4b07-cfc3-38c50c5c761f"
   },
   "outputs": [
    {
     "data": {
      "text/plain": [
       "{0: ('00', ['00', '00', '**', '**']),\n",
       " 1: ('01', ['01', '**', '**']),\n",
       " 2: ('10', ['**', '10', '**', '1*']),\n",
       " 3: ('11', ['**', '**', '1*', '11'])}"
      ]
     },
     "execution_count": 8,
     "metadata": {},
     "output_type": "execute_result"
    }
   ],
   "source": [
    "n = 2\n",
    "p = 0.2\n",
    "C = bin_space_gen(n)\n",
    "N = 2\n",
    "Y,IO = ers_chan(N,C,p)\n",
    "\n",
    "graph_out_org = buil_graph_out(IO)\n",
    "graph_in_org = build_graph_in(graph_out_org,C)\n",
    "graph_in_org"
   ]
  },
  {
   "cell_type": "code",
   "execution_count": 14,
   "metadata": {
    "id": "f9ZowdUdxGdw"
   },
   "outputs": [],
   "source": [
    "def degN(graph_in_org,N):\n",
    "  dN = 0 \n",
    "  for i in range(len(graph_in_org)):\n",
    "    if(len(graph_in_org[i][1])==N):\n",
    "      dN+=1\n",
    "  return dN/len(graph_in_org)"
   ]
  },
  {
   "cell_type": "code",
   "execution_count": 15,
   "metadata": {
    "colab": {
     "base_uri": "https://localhost:8080/"
    },
    "id": "OJHwdZEVRWTl",
    "outputId": "53c1ec2f-eb7a-48b3-c762-e0bf38fa4337"
   },
   "outputs": [
    {
     "data": {
      "text/plain": [
       "0.5"
      ]
     },
     "execution_count": 15,
     "metadata": {},
     "output_type": "execute_result"
    }
   ],
   "source": [
    "degN(graph_in_org)"
   ]
  },
  {
   "cell_type": "code",
   "execution_count": null,
   "metadata": {
    "id": "mfZGKH48QDDo"
   },
   "outputs": [],
   "source": []
  },
  {
   "cell_type": "code",
   "execution_count": 17,
   "metadata": {
    "id": "hIFDFmW-QCXE"
   },
   "outputs": [],
   "source": [
    "n = 4\n",
    "p_dict = np.linspace(0.01,0.5,25)\n",
    "C = bin_space_gen(n)\n",
    "TEST = 100\n",
    "\n",
    "N = 2 \n",
    "deg2_p = []\n",
    "for p in p_dict: \n",
    "  dN = 0 \n",
    "  for i in range(TEST):\n",
    "    Y,IO = ers_chan(N,C,p)\n",
    "    graph_out_org = buil_graph_out(IO)\n",
    "    graph_in_org = build_graph_in(graph_out_org,C)\n",
    "    dN += degN(graph_in_org,N)\n",
    "  deg2_p.append((2**n)*dN/TEST) \n",
    "\n",
    "N = 4\n",
    "deg4_p = []\n",
    "for p in p_dict: \n",
    "  dN = 0 \n",
    "  for i in range(TEST):\n",
    "    Y,IO = ers_chan(N,C,p)\n",
    "    graph_out_org = buil_graph_out(IO)\n",
    "    graph_in_org = build_graph_in(graph_out_org,C)\n",
    "    dN += degN(graph_in_org,N)\n",
    "  deg4_p.append((2**n)*dN/TEST) \n",
    "\n",
    "N = 6\n",
    "deg6_p = []\n",
    "for p in p_dict: \n",
    "  dN = 0 \n",
    "  for i in range(TEST):\n",
    "    Y,IO = ers_chan(N,C,p)\n",
    "    graph_out_org = buil_graph_out(IO)\n",
    "    graph_in_org = build_graph_in(graph_out_org,C)\n",
    "    dN += degN(graph_in_org,N)\n",
    "  deg6_p.append((2**n)*dN/TEST) "
   ]
  },
  {
   "cell_type": "code",
   "execution_count": 18,
   "metadata": {
    "colab": {
     "base_uri": "https://localhost:8080/",
     "height": 320
    },
    "id": "7mDKyNAUQCJE",
    "outputId": "d695ad3b-e5bd-44f1-b877-a72a134f1312"
   },
   "outputs": [
    {
     "data": {
      "image/png": "[encoded data removed]",
      "text/plain": [
       "<Figure size 432x288 with 1 Axes>"
      ]
     },
     "metadata": {
      "needs_background": "light"
     },
     "output_type": "display_data"
    }
   ],
   "source": [
    "plt.plot(p_dict, deg2_p, label=\"N=2\")\n",
    "plt.plot(p_dict, deg4_p, label=\"N=4\")\n",
    "plt.plot(p_dict, deg6_p, label=\"N=6\")\n",
    "plt.legend(loc=\"upper right\")\n",
    "plt.rcParams[\"figure.figsize\"] = (5,5)\n",
    "plt.show()"
   ]
  },
  {
   "cell_type": "code",
   "execution_count": 12,
   "metadata": {
    "colab": {
     "base_uri": "https://localhost:8080/",
     "height": 1000
    },
    "id": "JNB2YMBDQBzI",
    "outputId": "e4bc469b-48f4-4b1a-f41e-a7e2c25c2d23"
   },
   "outputs": [
    {
     "data": {
      "image/png": "[encoded data removed]",
      "text/plain": [
       "<Figure size 432x288 with 1 Axes>"
      ]
     },
     "metadata": {
      "needs_background": "light"
     },
     "output_type": "display_data"
    },
    {
     "data": {
      "text/plain": [
       "<Figure size 1440x1440 with 0 Axes>"
      ]
     },
     "metadata": {},
     "output_type": "display_data"
    }
   ],
   "source": [
    "N = 3\n",
    "n = 60\n",
    "p_dict = np.linspace(0.001,0.5,100)\n",
    "# C = bin_space_gen(n)\n",
    "TEST = 25\n",
    "\n",
    "degN_p = []\n",
    "degN_p_th = []\n",
    "degN_p_th_ub = []\n",
    "p_th = 1\n",
    "\n",
    "\n",
    "for i in range(len(p_dict)): \n",
    "  p = p_dict[i]\n",
    "  # dN = 0 \n",
    "  # for i in range(TEST):\n",
    "  #   Y,IO = ers_chan(N,C,p)\n",
    "  #   graph_out_org = buil_graph_out(IO)\n",
    "  #   graph_in_org = build_graph_in(graph_out_org,C)\n",
    "  #   dN += degN(graph_in_org)\n",
    "  # degN_p.append((dN/TEST))\n",
    "\n",
    "  dN_th = 1 \n",
    "  for r in range(1,n+1):\n",
    "    dN_th *= (1-p**r)**(choose(n,r)*N)\n",
    "  degN_p_th.append(dN_th) \n",
    "  if((2**n)*dN_th>=1):\n",
    "    p_th = p \n",
    "    \n",
    "\n",
    "  dN_th_ub = 2**(N*(2**n)*math.log((2**n-(1+p)**n)/(2**n-1),2))\n",
    "  degN_p_th_ub.append(dN_th_ub) \n",
    "\n",
    "\n",
    "# plt.plot(p_dict, degN_p, label=\"sim\")\n",
    "plt.plot(p_dict, degN_p_th, label=\"th\")\n",
    "plt.plot(p_dict, degN_p_th_ub, label=\"th_ub\")\n",
    "plt.legend(loc=\"upper right\")\n",
    "plt.figure(figsize=(20, 20))\n",
    "plt.show()"
   ]
  },
  {
   "cell_type": "code",
   "execution_count": 43,
   "metadata": {
    "id": "AgRO-lJAx9Hs"
   },
   "outputs": [
    {
     "data": {
      "text/plain": [
       "0.07660606060606061"
      ]
     },
     "execution_count": 43,
     "metadata": {},
     "output_type": "execute_result"
    }
   ],
   "source": [
    "p_th"
   ]
  },
  {
   "cell_type": "code",
   "execution_count": 23,
   "metadata": {
    "id": "jB4VB2Wmx2l0"
   },
   "outputs": [],
   "source": [
    "d = {'prob': p_dict, 'degN_p_th': degN_p_th, 'degN_p_th_ub': degN_p_th_ub}\n",
    "df = pd.DataFrame(data=d)"
   ]
  },
  {
   "cell_type": "code",
   "execution_count": 24,
   "metadata": {
    "colab": {
     "base_uri": "https://localhost:8080/",
     "height": 542
    },
    "id": "96iVoPUltkJI",
    "outputId": "32b700fc-84be-4e34-b01c-1e8e21789ea3"
   },
   "outputs": [
    {
     "data": {
      "application/vnd.plotly.v1+json": {
       "config": {
        "plotlyServerURL": "https://plot.ly"
       },
       "data": [
        {
         "hovertemplate": "variable=degN_p_th<br>prob=%{x}<br>value=%{y}<extra></extra>",
         "legendgroup": "degN_p_th",
         "line": {
          "color": "#636efa",
          "dash": "solid"
         },
         "marker": {
          "symbol": "circle"
         },
         "mode": "lines",
         "name": "degN_p_th",
         "orientation": "v",
         "showlegend": true,
         "type": "scatter",
         "x": [
          0.001,
          0.0060404040404040404,
          0.01108080808080808,
          0.016121212121212123,
          0.021161616161616163,
          0.026202020202020202,
          0.031242424242424245,
          0.036282828282828285,
          0.041323232323232324,
          0.046363636363636364,
          0.0514040404040404,
          0.05644444444444444,
          0.06148484848484849,
          0.06652525252525253,
          0.07156565656565657,
          0.07660606060606061,
          0.08164646464646465,
          0.08668686868686869,
          0.09172727272727273,
          0.09676767676767677,
          0.1018080808080808,
          0.10684848484848485,
          0.11188888888888888,
          0.11692929292929292,
          0.12196969696969698,
          0.12701010101010102,
          0.13205050505050506,
          0.1370909090909091,
          0.14213131313131314,
          0.14717171717171718,
          0.15221212121212122,
          0.15725252525252525,
          0.1622929292929293,
          0.16733333333333333,
          0.17237373737373737,
          0.1774141414141414,
          0.18245454545454545,
          0.1874949494949495,
          0.19253535353535353,
          0.19757575757575757,
          0.2026161616161616,
          0.20765656565656565,
          0.2126969696969697,
          0.21773737373737373,
          0.22277777777777777,
          0.2278181818181818,
          0.23285858585858585,
          0.2378989898989899,
          0.24293939393939395,
          0.247979797979798,
          0.25302020202020203,
          0.25806060606060605,
          0.2631010101010101,
          0.2681414141414141,
          0.2731818181818182,
          0.2782222222222222,
          0.28326262626262627,
          0.2883030303030303,
          0.29334343434343435,
          0.29838383838383836,
          0.30342424242424243,
          0.30846464646464644,
          0.3135050505050505,
          0.3185454545454545,
          0.3235858585858586,
          0.32862626262626266,
          0.33366666666666667,
          0.33870707070707073,
          0.34374747474747475,
          0.3487878787878788,
          0.3538282828282828,
          0.3588686868686869,
          0.3639090909090909,
          0.36894949494949497,
          0.373989898989899,
          0.37903030303030305,
          0.38407070707070706,
          0.38911111111111113,
          0.39415151515151514,
          0.3991919191919192,
          0.4042323232323232,
          0.4092727272727273,
          0.4143131313131313,
          0.41935353535353537,
          0.4243939393939394,
          0.42943434343434345,
          0.43447474747474746,
          0.4395151515151515,
          0.44455555555555554,
          0.4495959595959596,
          0.4546363636363636,
          0.4596767676767677,
          0.4647171717171717,
          0.46975757575757576,
          0.4747979797979798,
          0.47983838383838384,
          0.4848787878787879,
          0.4899191919191919,
          0.494959595959596,
          0.5
         ],
         "xaxis": "x",
         "y": [
          0.9268676800455654,
          0.6133527531084711,
          0.38435082012467925,
          0.22660796748050677,
          0.12480494935441117,
          0.06369656594729721,
          0.02985697282214227,
          0.01272610076524435,
          0.004878064800267676,
          0.0016608902955284242,
          0.0004954635217349572,
          0.00012753504362086155,
          2.7850134292250713e-05,
          5.063177591457876e-06,
          7.504734326012207e-07,
          8.861107990329898e-08,
          8.122848399099902e-09,
          5.618401110786411e-10,
          2.8410737596499786e-11,
          1.0142080478239163e-12,
          2.4588603576399568e-14,
          3.8788590164267285e-16,
          3.797271756678073e-18,
          2.1893071445094796e-20,
          7.016133783563485e-23,
          1.172508528313558e-25,
          9.522578078004381e-29,
          3.477327736841525e-32,
          5.240223543518136e-36,
          2.9649459255812933e-40,
          5.67563623075699e-45,
          3.2773635105989103e-50,
          5.03152593921802e-56,
          1.7872336035695044e-62,
          1.2605877662639044e-69,
          1.4923361372118454e-77,
          2.4649925220045217e-86,
          4.637172076795606e-96,
          7.949671344959116e-107,
          9.722997604012772e-119,
          6.485578500667522e-132,
          1.7572119648242746e-146,
          1.399907963138867e-162,
          2.3012134288721315e-180,
          5.294859745821072e-200,
          1.1147714058022812e-221,
          1.3484169016380116e-245,
          5.6304233883042115e-272,
          4.648250233768177e-301,
          0,
          0,
          0,
          0,
          0,
          0,
          0,
          0,
          0,
          0,
          0,
          0,
          0,
          0,
          0,
          0,
          0,
          0,
          0,
          0,
          0,
          0,
          0,
          0,
          0,
          0,
          0,
          0,
          0,
          0,
          0,
          0,
          0,
          0,
          0,
          0,
          0,
          0,
          0,
          0,
          0,
          0,
          0,
          0,
          0,
          0,
          0,
          0,
          0,
          0,
          0
         ],
         "yaxis": "y"
        },
        {
         "hovertemplate": "variable=degN_p_th_ub<br>prob=%{x}<br>value=%{y}<extra></extra>",
         "legendgroup": "degN_p_th_ub",
         "line": {
          "color": "#EF553B",
          "dash": "solid"
         },
         "marker": {
          "symbol": "circle"
         },
         "mode": "lines",
         "name": "degN_p_th_ub",
         "orientation": "v",
         "showlegend": true,
         "type": "scatter",
         "x": [
          0.001,
          0.0060404040404040404,
          0.01108080808080808,
          0.016121212121212123,
          0.021161616161616163,
          0.026202020202020202,
          0.031242424242424245,
          0.036282828282828285,
          0.041323232323232324,
          0.046363636363636364,
          0.0514040404040404,
          0.05644444444444444,
          0.06148484848484849,
          0.06652525252525253,
          0.07156565656565657,
          0.07660606060606061,
          0.08164646464646465,
          0.08668686868686869,
          0.09172727272727273,
          0.09676767676767677,
          0.1018080808080808,
          0.10684848484848485,
          0.11188888888888888,
          0.11692929292929292,
          0.12196969696969698,
          0.12701010101010102,
          0.13205050505050506,
          0.1370909090909091,
          0.14213131313131314,
          0.14717171717171718,
          0.15221212121212122,
          0.15725252525252525,
          0.1622929292929293,
          0.16733333333333333,
          0.17237373737373737,
          0.1774141414141414,
          0.18245454545454545,
          0.1874949494949495,
          0.19253535353535353,
          0.19757575757575757,
          0.2026161616161616,
          0.20765656565656565,
          0.2126969696969697,
          0.21773737373737373,
          0.22277777777777777,
          0.2278181818181818,
          0.23285858585858585,
          0.2378989898989899,
          0.24293939393939395,
          0.247979797979798,
          0.25302020202020203,
          0.25806060606060605,
          0.2631010101010101,
          0.2681414141414141,
          0.2731818181818182,
          0.2782222222222222,
          0.28326262626262627,
          0.2883030303030303,
          0.29334343434343435,
          0.29838383838383836,
          0.30342424242424243,
          0.30846464646464644,
          0.3135050505050505,
          0.3185454545454545,
          0.3235858585858586,
          0.32862626262626266,
          0.33366666666666667,
          0.33870707070707073,
          0.34374747474747475,
          0.3487878787878788,
          0.3538282828282828,
          0.3588686868686869,
          0.3639090909090909,
          0.36894949494949497,
          0.373989898989899,
          0.37903030303030305,
          0.38407070707070706,
          0.38911111111111113,
          0.39415151515151514,
          0.3991919191919192,
          0.4042323232323232,
          0.4092727272727273,
          0.4143131313131313,
          0.41935353535353537,
          0.4243939393939394,
          0.42943434343434345,
          0.43447474747474746,
          0.4395151515151515,
          0.44455555555555554,
          0.4495959595959596,
          0.4546363636363636,
          0.4596767676767677,
          0.4647171717171717,
          0.46975757575757576,
          0.4747979797979798,
          0.47983838383838384,
          0.4848787878787879,
          0.4899191919191919,
          0.494959595959596,
          0.5
         ],
         "xaxis": "x",
         "y": [
          0.9269024602435111,
          0.6141962998687308,
          0.3861404611066457,
          0.22885850779124725,
          0.1269605448473933,
          0.06540168878646263,
          0.03100766839626238,
          0.013397090082278053,
          0.005217066630849326,
          0.0018087960115082224,
          0.0005507751607814223,
          0.00014507497718241683,
          3.2502984715206784e-05,
          6.0790483429473e-06,
          9.296155362610357e-07,
          1.1358251784598403e-07,
          1.0808193145963944e-08,
          7.786037638617673e-10,
          4.1149162488886337e-11,
          1.5409220070804302e-12,
          3.934184592504167e-14,
          6.562717515953092e-16,
          6.82353700667794e-18,
          4.197770585343231e-20,
          1.442534805090937e-22,
          2.598603264139128e-25,
          2.287711624170256e-28,
          9.109673590915749e-32,
          1.5065340786118994e-35,
          9.418195881794218e-40,
          2.006509775261134e-44,
          1.2995782831327764e-49,
          2.256545292336931e-55,
          9.14677694437318e-62,
          7.432946405965162e-69,
          1.0242867053406623e-76,
          1.991301299853063e-85,
          4.461730396280676e-95,
          9.227514868348581e-106,
          1.3804070964002027e-117,
          1.143089855861113e-130,
          3.906992701420269e-145,
          3.995043033731498e-161,
          8.588232382584345e-179,
          2.636982161688279e-198,
          7.572602907696734e-220,
          1.2793134759289195e-243,
          7.654781183497333e-270,
          9.311171119693271e-299,
          0,
          0,
          0,
          0,
          0,
          0,
          0,
          0,
          0,
          0,
          0,
          0,
          0,
          0,
          0,
          0,
          0,
          0,
          0,
          0,
          0,
          0,
          0,
          0,
          0,
          0,
          0,
          0,
          0,
          0,
          0,
          0,
          0,
          0,
          0,
          0,
          0,
          0,
          0,
          0,
          0,
          0,
          0,
          0,
          0,
          0,
          0,
          0,
          0,
          0,
          0
         ],
         "yaxis": "y"
        }
       ],
       "layout": {
        "legend": {
         "title": {
          "text": "variable"
         },
         "tracegroupgap": 0
        },
        "margin": {
         "t": 60
        },
        "template": {
         "data": {
          "bar": [
           {
            "error_x": {
             "color": "#2a3f5f"
            },
            "error_y": {
             "color": "#2a3f5f"
            },
            "marker": {
             "line": {
              "color": "#E5ECF6",
              "width": 0.5
             },
             "pattern": {
              "fillmode": "overlay",
              "size": 10,
              "solidity": 0.2
             }
            },
            "type": "bar"
           }
          ],
          "barpolar": [
           {
            "marker": {
             "line": {
              "color": "#E5ECF6",
              "width": 0.5
             },
             "pattern": {
              "fillmode": "overlay",
              "size": 10,
              "solidity": 0.2
             }
            },
            "type": "barpolar"
           }
          ],
          "carpet": [
           {
            "aaxis": {
             "endlinecolor": "#2a3f5f",
             "gridcolor": "white",
             "linecolor": "white",
             "minorgridcolor": "white",
             "startlinecolor": "#2a3f5f"
            },
            "baxis": {
             "endlinecolor": "#2a3f5f",
             "gridcolor": "white",
             "linecolor": "white",
             "minorgridcolor": "white",
             "startlinecolor": "#2a3f5f"
            },
            "type": "carpet"
           }
          ],
          "choropleth": [
           {
            "colorbar": {
             "outlinewidth": 0,
             "ticks": ""
            },
            "type": "choropleth"
           }
          ],
          "contour": [
           {
            "colorbar": {
             "outlinewidth": 0,
             "ticks": ""
            },
            "colorscale": [
             [
              0,
              "#0d0887"
             ],
             [
              0.1111111111111111,
              "#46039f"
             ],
             [
              0.2222222222222222,
              "#7201a8"
             ],
             [
              0.3333333333333333,
              "#9c179e"
             ],
             [
              0.4444444444444444,
              "#bd3786"
             ],
             [
              0.5555555555555556,
              "#d8576b"
             ],
             [
              0.6666666666666666,
              "#ed7953"
             ],
             [
              0.7777777777777778,
              "#fb9f3a"
             ],
             [
              0.8888888888888888,
              "#fdca26"
             ],
             [
              1,
              "#f0f921"
             ]
            ],
            "type": "contour"
           }
          ],
          "contourcarpet": [
           {
            "colorbar": {
             "outlinewidth": 0,
             "ticks": ""
            },
            "type": "contourcarpet"
           }
          ],
          "heatmap": [
           {
            "colorbar": {
             "outlinewidth": 0,
             "ticks": ""
            },
            "colorscale": [
             [
              0,
              "#0d0887"
             ],
             [
              0.1111111111111111,
              "#46039f"
             ],
             [
              0.2222222222222222,
              "#7201a8"
             ],
             [
              0.3333333333333333,
              "#9c179e"
             ],
             [
              0.4444444444444444,
              "#bd3786"
             ],
             [
              0.5555555555555556,
              "#d8576b"
             ],
             [
              0.6666666666666666,
              "#ed7953"
             ],
             [
              0.7777777777777778,
              "#fb9f3a"
             ],
             [
              0.8888888888888888,
              "#fdca26"
             ],
             [
              1,
              "#f0f921"
             ]
            ],
            "type": "heatmap"
           }
          ],
          "heatmapgl": [
           {
            "colorbar": {
             "outlinewidth": 0,
             "ticks": ""
            },
            "colorscale": [
             [
              0,
              "#0d0887"
             ],
             [
              0.1111111111111111,
              "#46039f"
             ],
             [
              0.2222222222222222,
              "#7201a8"
             ],
             [
              0.3333333333333333,
              "#9c179e"
             ],
             [
              0.4444444444444444,
              "#bd3786"
             ],
             [
              0.5555555555555556,
              "#d8576b"
             ],
             [
              0.6666666666666666,
              "#ed7953"
             ],
             [
              0.7777777777777778,
              "#fb9f3a"
             ],
             [
              0.8888888888888888,
              "#fdca26"
             ],
             [
              1,
              "#f0f921"
             ]
            ],
            "type": "heatmapgl"
           }
          ],
          "histogram": [
           {
            "marker": {
             "pattern": {
              "fillmode": "overlay",
              "size": 10,
              "solidity": 0.2
             }
            },
            "type": "histogram"
           }
          ],
          "histogram2d": [
           {
            "colorbar": {
             "outlinewidth": 0,
             "ticks": ""
            },
            "colorscale": [
             [
              0,
              "#0d0887"
             ],
             [
              0.1111111111111111,
              "#46039f"
             ],
             [
              0.2222222222222222,
              "#7201a8"
             ],
             [
              0.3333333333333333,
              "#9c179e"
             ],
             [
              0.4444444444444444,
              "#bd3786"
             ],
             [
              0.5555555555555556,
              "#d8576b"
             ],
             [
              0.6666666666666666,
              "#ed7953"
             ],
             [
              0.7777777777777778,
              "#fb9f3a"
             ],
             [
              0.8888888888888888,
              "#fdca26"
             ],
             [
              1,
              "#f0f921"
             ]
            ],
            "type": "histogram2d"
           }
          ],
          "histogram2dcontour": [
           {
            "colorbar": {
             "outlinewidth": 0,
             "ticks": ""
            },
            "colorscale": [
             [
              0,
              "#0d0887"
             ],
             [
              0.1111111111111111,
              "#46039f"
             ],
             [
              0.2222222222222222,
              "#7201a8"
             ],
             [
              0.3333333333333333,
              "#9c179e"
             ],
             [
              0.4444444444444444,
              "#bd3786"
             ],
             [
              0.5555555555555556,
              "#d8576b"
             ],
             [
              0.6666666666666666,
              "#ed7953"
             ],
             [
              0.7777777777777778,
              "#fb9f3a"
             ],
             [
              0.8888888888888888,
              "#fdca26"
             ],
             [
              1,
              "#f0f921"
             ]
            ],
            "type": "histogram2dcontour"
           }
          ],
          "mesh3d": [
           {
            "colorbar": {
             "outlinewidth": 0,
             "ticks": ""
            },
            "type": "mesh3d"
           }
          ],
          "parcoords": [
           {
            "line": {
             "colorbar": {
              "outlinewidth": 0,
              "ticks": ""
             }
            },
            "type": "parcoords"
           }
          ],
          "pie": [
           {
            "automargin": true,
            "type": "pie"
           }
          ],
          "scatter": [
           {
            "fillpattern": {
             "fillmode": "overlay",
             "size": 10,
             "solidity": 0.2
            },
            "type": "scatter"
           }
          ],
          "scatter3d": [
           {
            "line": {
             "colorbar": {
              "outlinewidth": 0,
              "ticks": ""
             }
            },
            "marker": {
             "colorbar": {
              "outlinewidth": 0,
              "ticks": ""
             }
            },
            "type": "scatter3d"
           }
          ],
          "scattercarpet": [
           {
            "marker": {
             "colorbar": {
              "outlinewidth": 0,
              "ticks": ""
             }
            },
            "type": "scattercarpet"
           }
          ],
          "scattergeo": [
           {
            "marker": {
             "colorbar": {
              "outlinewidth": 0,
              "ticks": ""
             }
            },
            "type": "scattergeo"
           }
          ],
          "scattergl": [
           {
            "marker": {
             "colorbar": {
              "outlinewidth": 0,
              "ticks": ""
             }
            },
            "type": "scattergl"
           }
          ],
          "scattermapbox": [
           {
            "marker": {
             "colorbar": {
              "outlinewidth": 0,
              "ticks": ""
             }
            },
            "type": "scattermapbox"
           }
          ],
          "scatterpolar": [
           {
            "marker": {
             "colorbar": {
              "outlinewidth": 0,
              "ticks": ""
             }
            },
            "type": "scatterpolar"
           }
          ],
          "scatterpolargl": [
           {
            "marker": {
             "colorbar": {
              "outlinewidth": 0,
              "ticks": ""
             }
            },
            "type": "scatterpolargl"
           }
          ],
          "scatterternary": [
           {
            "marker": {
             "colorbar": {
              "outlinewidth": 0,
              "ticks": ""
             }
            },
            "type": "scatterternary"
           }
          ],
          "surface": [
           {
            "colorbar": {
             "outlinewidth": 0,
             "ticks": ""
            },
            "colorscale": [
             [
              0,
              "#0d0887"
             ],
             [
              0.1111111111111111,
              "#46039f"
             ],
             [
              0.2222222222222222,
              "#7201a8"
             ],
             [
              0.3333333333333333,
              "#9c179e"
             ],
             [
              0.4444444444444444,
              "#bd3786"
             ],
             [
              0.5555555555555556,
              "#d8576b"
             ],
             [
              0.6666666666666666,
              "#ed7953"
             ],
             [
              0.7777777777777778,
              "#fb9f3a"
             ],
             [
              0.8888888888888888,
              "#fdca26"
             ],
             [
              1,
              "#f0f921"
             ]
            ],
            "type": "surface"
           }
          ],
          "table": [
           {
            "cells": {
             "fill": {
              "color": "#EBF0F8"
             },
             "line": {
              "color": "white"
             }
            },
            "header": {
             "fill": {
              "color": "#C8D4E3"
             },
             "line": {
              "color": "white"
             }
            },
            "type": "table"
           }
          ]
         },
         "layout": {
          "annotationdefaults": {
           "arrowcolor": "#2a3f5f",
           "arrowhead": 0,
           "arrowwidth": 1
          },
          "autotypenumbers": "strict",
          "coloraxis": {
           "colorbar": {
            "outlinewidth": 0,
            "ticks": ""
           }
          },
          "colorscale": {
           "diverging": [
            [
             0,
             "#8e0152"
            ],
            [
             0.1,
             "#c51b7d"
            ],
            [
             0.2,
             "#de77ae"
            ],
            [
             0.3,
             "#f1b6da"
            ],
            [
             0.4,
             "#fde0ef"
            ],
            [
             0.5,
             "#f7f7f7"
            ],
            [
             0.6,
             "#e6f5d0"
            ],
            [
             0.7,
             "#b8e186"
            ],
            [
             0.8,
             "#7fbc41"
            ],
            [
             0.9,
             "#4d9221"
            ],
            [
             1,
             "#276419"
            ]
           ],
           "sequential": [
            [
             0,
             "#0d0887"
            ],
            [
             0.1111111111111111,
             "#46039f"
            ],
            [
             0.2222222222222222,
             "#7201a8"
            ],
            [
             0.3333333333333333,
             "#9c179e"
            ],
            [
             0.4444444444444444,
             "#bd3786"
            ],
            [
             0.5555555555555556,
             "#d8576b"
            ],
            [
             0.6666666666666666,
             "#ed7953"
            ],
            [
             0.7777777777777778,
             "#fb9f3a"
            ],
            [
             0.8888888888888888,
             "#fdca26"
            ],
            [
             1,
             "#f0f921"
            ]
           ],
           "sequentialminus": [
            [
             0,
             "#0d0887"
            ],
            [
             0.1111111111111111,
             "#46039f"
            ],
            [
             0.2222222222222222,
             "#7201a8"
            ],
            [
             0.3333333333333333,
             "#9c179e"
            ],
            [
             0.4444444444444444,
             "#bd3786"
            ],
            [
             0.5555555555555556,
             "#d8576b"
            ],
            [
             0.6666666666666666,
             "#ed7953"
            ],
            [
             0.7777777777777778,
             "#fb9f3a"
            ],
            [
             0.8888888888888888,
             "#fdca26"
            ],
            [
             1,
             "#f0f921"
            ]
           ]
          },
          "colorway": [
           "#636efa",
           "#EF553B",
           "#00cc96",
           "#ab63fa",
           "#FFA15A",
           "#19d3f3",
           "#FF6692",
           "#B6E880",
           "#FF97FF",
           "#FECB52"
          ],
          "font": {
           "color": "#2a3f5f"
          },
          "geo": {
           "bgcolor": "white",
           "lakecolor": "white",
           "landcolor": "#E5ECF6",
           "showlakes": true,
           "showland": true,
           "subunitcolor": "white"
          },
          "hoverlabel": {
           "align": "left"
          },
          "hovermode": "closest",
          "mapbox": {
           "style": "light"
          },
          "paper_bgcolor": "white",
          "plot_bgcolor": "#E5ECF6",
          "polar": {
           "angularaxis": {
            "gridcolor": "white",
            "linecolor": "white",
            "ticks": ""
           },
           "bgcolor": "#E5ECF6",
           "radialaxis": {
            "gridcolor": "white",
            "linecolor": "white",
            "ticks": ""
           }
          },
          "scene": {
           "xaxis": {
            "backgroundcolor": "#E5ECF6",
            "gridcolor": "white",
            "gridwidth": 2,
            "linecolor": "white",
            "showbackground": true,
            "ticks": "",
            "zerolinecolor": "white"
           },
           "yaxis": {
            "backgroundcolor": "#E5ECF6",
            "gridcolor": "white",
            "gridwidth": 2,
            "linecolor": "white",
            "showbackground": true,
            "ticks": "",
            "zerolinecolor": "white"
           },
           "zaxis": {
            "backgroundcolor": "#E5ECF6",
            "gridcolor": "white",
            "gridwidth": 2,
            "linecolor": "white",
            "showbackground": true,
            "ticks": "",
            "zerolinecolor": "white"
           }
          },
          "shapedefaults": {
           "line": {
            "color": "#2a3f5f"
           }
          },
          "ternary": {
           "aaxis": {
            "gridcolor": "white",
            "linecolor": "white",
            "ticks": ""
           },
           "baxis": {
            "gridcolor": "white",
            "linecolor": "white",
            "ticks": ""
           },
           "bgcolor": "#E5ECF6",
           "caxis": {
            "gridcolor": "white",
            "linecolor": "white",
            "ticks": ""
           }
          },
          "title": {
           "x": 0.05
          },
          "xaxis": {
           "automargin": true,
           "gridcolor": "white",
           "linecolor": "white",
           "ticks": "",
           "title": {
            "standoff": 15
           },
           "zerolinecolor": "white",
           "zerolinewidth": 2
          },
          "yaxis": {
           "automargin": true,
           "gridcolor": "white",
           "linecolor": "white",
           "ticks": "",
           "title": {
            "standoff": 15
           },
           "zerolinecolor": "white",
           "zerolinewidth": 2
          }
         }
        },
        "xaxis": {
         "anchor": "y",
         "domain": [
          0,
          1
         ],
         "title": {
          "text": "prob"
         }
        },
        "yaxis": {
         "anchor": "x",
         "domain": [
          0,
          1
         ],
         "title": {
          "text": "value"
         }
        }
       }
      },
      "text/html": [
       "<div>                            <div id=\"5425e3ab-b2ed-4808-99ae-fd24c1d7f06c\" class=\"plotly-graph-div\" style=\"height:525px; width:100%;\"></div>            <script type=\"text/javascript\">                require([\"plotly\"], function(Plotly) {                    window.PLOTLYENV=window.PLOTLYENV || {};                                    if (document.getElementById(\"5425e3ab-b2ed-4808-99ae-fd24c1d7f06c\")) {                    Plotly.newPlot(                        \"5425e3ab-b2ed-4808-99ae-fd24c1d7f06c\",                        [{\"hovertemplate\":\"variable=degN_p_th<br>prob=%{x}<br>value=%{y}<extra></extra>\",\"legendgroup\":\"degN_p_th\",\"line\":{\"color\":\"#636efa\",\"dash\":\"solid\"},\"marker\":{\"symbol\":\"circle\"},\"mode\":\"lines\",\"name\":\"degN_p_th\",\"orientation\":\"v\",\"showlegend\":true,\"x\":[0.001,0.0060404040404040404,0.01108080808080808,0.016121212121212123,0.021161616161616163,0.026202020202020202,0.031242424242424245,0.036282828282828285,0.041323232323232324,0.046363636363636364,0.0514040404040404,0.05644444444444444,0.06148484848484849,0.06652525252525253,0.07156565656565657,0.07660606060606061,0.08164646464646465,0.08668686868686869,0.09172727272727273,0.09676767676767677,0.1018080808080808,0.10684848484848485,0.11188888888888888,0.11692929292929292,0.12196969696969698,0.12701010101010102,0.13205050505050506,0.1370909090909091,0.14213131313131314,0.14717171717171718,0.15221212121212122,0.15725252525252525,0.1622929292929293,0.16733333333333333,0.17237373737373737,0.1774141414141414,0.18245454545454545,0.1874949494949495,0.19253535353535353,0.19757575757575757,0.2026161616161616,0.20765656565656565,0.2126969696969697,0.21773737373737373,0.22277777777777777,0.2278181818181818,0.23285858585858585,0.2378989898989899,0.24293939393939395,0.247979797979798,0.25302020202020203,0.25806060606060605,0.2631010101010101,0.2681414141414141,0.2731818181818182,0.2782222222222222,0.28326262626262627,0.2883030303030303,0.29334343434343435,0.29838383838383836,0.30342424242424243,0.30846464646464644,0.3135050505050505,0.3185454545454545,0.3235858585858586,0.32862626262626266,0.33366666666666667,0.33870707070707073,0.34374747474747475,0.3487878787878788,0.3538282828282828,0.3588686868686869,0.3639090909090909,0.36894949494949497,0.373989898989899,0.37903030303030305,0.38407070707070706,0.38911111111111113,0.39415151515151514,0.3991919191919192,0.4042323232323232,0.4092727272727273,0.4143131313131313,0.41935353535353537,0.4243939393939394,0.42943434343434345,0.43447474747474746,0.4395151515151515,0.44455555555555554,0.4495959595959596,0.4546363636363636,0.4596767676767677,0.4647171717171717,0.46975757575757576,0.4747979797979798,0.47983838383838384,0.4848787878787879,0.4899191919191919,0.494959595959596,0.5],\"xaxis\":\"x\",\"y\":[0.9268676800455654,0.6133527531084711,0.38435082012467925,0.22660796748050677,0.12480494935441117,0.06369656594729721,0.02985697282214227,0.01272610076524435,0.004878064800267676,0.0016608902955284242,0.0004954635217349572,0.00012753504362086155,2.7850134292250713e-05,5.063177591457876e-06,7.504734326012207e-07,8.861107990329898e-08,8.122848399099902e-09,5.618401110786411e-10,2.8410737596499786e-11,1.0142080478239163e-12,2.4588603576399568e-14,3.8788590164267285e-16,3.797271756678073e-18,2.1893071445094796e-20,7.016133783563485e-23,1.172508528313558e-25,9.522578078004381e-29,3.477327736841525e-32,5.240223543518136e-36,2.9649459255812933e-40,5.67563623075699e-45,3.2773635105989103e-50,5.03152593921802e-56,1.7872336035695044e-62,1.2605877662639044e-69,1.4923361372118454e-77,2.4649925220045217e-86,4.637172076795606e-96,7.949671344959116e-107,9.722997604012772e-119,6.485578500667522e-132,1.7572119648242746e-146,1.399907963138867e-162,2.3012134288721315e-180,5.294859745821072e-200,1.1147714058022812e-221,1.3484169016380116e-245,5.6304233883042115e-272,4.648250233768177e-301,0.0,0.0,0.0,0.0,0.0,0.0,0.0,0.0,0.0,0.0,0.0,0.0,0.0,0.0,0.0,0.0,0.0,0.0,0.0,0.0,0.0,0.0,0.0,0.0,0.0,0.0,0.0,0.0,0.0,0.0,0.0,0.0,0.0,0.0,0.0,0.0,0.0,0.0,0.0,0.0,0.0,0.0,0.0,0.0,0.0,0.0,0.0,0.0,0.0,0.0,0.0],\"yaxis\":\"y\",\"type\":\"scatter\"},{\"hovertemplate\":\"variable=degN_p_th_ub<br>prob=%{x}<br>value=%{y}<extra></extra>\",\"legendgroup\":\"degN_p_th_ub\",\"line\":{\"color\":\"#EF553B\",\"dash\":\"solid\"},\"marker\":{\"symbol\":\"circle\"},\"mode\":\"lines\",\"name\":\"degN_p_th_ub\",\"orientation\":\"v\",\"showlegend\":true,\"x\":[0.001,0.0060404040404040404,0.01108080808080808,0.016121212121212123,0.021161616161616163,0.026202020202020202,0.031242424242424245,0.036282828282828285,0.041323232323232324,0.046363636363636364,0.0514040404040404,0.05644444444444444,0.06148484848484849,0.06652525252525253,0.07156565656565657,0.07660606060606061,0.08164646464646465,0.08668686868686869,0.09172727272727273,0.09676767676767677,0.1018080808080808,0.10684848484848485,0.11188888888888888,0.11692929292929292,0.12196969696969698,0.12701010101010102,0.13205050505050506,0.1370909090909091,0.14213131313131314,0.14717171717171718,0.15221212121212122,0.15725252525252525,0.1622929292929293,0.16733333333333333,0.17237373737373737,0.1774141414141414,0.18245454545454545,0.1874949494949495,0.19253535353535353,0.19757575757575757,0.2026161616161616,0.20765656565656565,0.2126969696969697,0.21773737373737373,0.22277777777777777,0.2278181818181818,0.23285858585858585,0.2378989898989899,0.24293939393939395,0.247979797979798,0.25302020202020203,0.25806060606060605,0.2631010101010101,0.2681414141414141,0.2731818181818182,0.2782222222222222,0.28326262626262627,0.2883030303030303,0.29334343434343435,0.29838383838383836,0.30342424242424243,0.30846464646464644,0.3135050505050505,0.3185454545454545,0.3235858585858586,0.32862626262626266,0.33366666666666667,0.33870707070707073,0.34374747474747475,0.3487878787878788,0.3538282828282828,0.3588686868686869,0.3639090909090909,0.36894949494949497,0.373989898989899,0.37903030303030305,0.38407070707070706,0.38911111111111113,0.39415151515151514,0.3991919191919192,0.4042323232323232,0.4092727272727273,0.4143131313131313,0.41935353535353537,0.4243939393939394,0.42943434343434345,0.43447474747474746,0.4395151515151515,0.44455555555555554,0.4495959595959596,0.4546363636363636,0.4596767676767677,0.4647171717171717,0.46975757575757576,0.4747979797979798,0.47983838383838384,0.4848787878787879,0.4899191919191919,0.494959595959596,0.5],\"xaxis\":\"x\",\"y\":[0.9269024602435111,0.6141962998687308,0.3861404611066457,0.22885850779124725,0.1269605448473933,0.06540168878646263,0.03100766839626238,0.013397090082278053,0.005217066630849326,0.0018087960115082224,0.0005507751607814223,0.00014507497718241683,3.2502984715206784e-05,6.0790483429473e-06,9.296155362610357e-07,1.1358251784598403e-07,1.0808193145963944e-08,7.786037638617673e-10,4.1149162488886337e-11,1.5409220070804302e-12,3.934184592504167e-14,6.562717515953092e-16,6.82353700667794e-18,4.197770585343231e-20,1.442534805090937e-22,2.598603264139128e-25,2.287711624170256e-28,9.109673590915749e-32,1.5065340786118994e-35,9.418195881794218e-40,2.006509775261134e-44,1.2995782831327764e-49,2.256545292336931e-55,9.14677694437318e-62,7.432946405965162e-69,1.0242867053406623e-76,1.991301299853063e-85,4.461730396280676e-95,9.227514868348581e-106,1.3804070964002027e-117,1.143089855861113e-130,3.906992701420269e-145,3.995043033731498e-161,8.588232382584345e-179,2.636982161688279e-198,7.572602907696734e-220,1.2793134759289195e-243,7.654781183497333e-270,9.311171119693271e-299,0.0,0.0,0.0,0.0,0.0,0.0,0.0,0.0,0.0,0.0,0.0,0.0,0.0,0.0,0.0,0.0,0.0,0.0,0.0,0.0,0.0,0.0,0.0,0.0,0.0,0.0,0.0,0.0,0.0,0.0,0.0,0.0,0.0,0.0,0.0,0.0,0.0,0.0,0.0,0.0,0.0,0.0,0.0,0.0,0.0,0.0,0.0,0.0,0.0,0.0,0.0],\"yaxis\":\"y\",\"type\":\"scatter\"}],                        {\"template\":{\"data\":{\"histogram2dcontour\":[{\"type\":\"histogram2dcontour\",\"colorbar\":{\"outlinewidth\":0,\"ticks\":\"\"},\"colorscale\":[[0.0,\"#0d0887\"],[0.1111111111111111,\"#46039f\"],[0.2222222222222222,\"#7201a8\"],[0.3333333333333333,\"#9c179e\"],[0.4444444444444444,\"#bd3786\"],[0.5555555555555556,\"#d8576b\"],[0.6666666666666666,\"#ed7953\"],[0.7777777777777778,\"#fb9f3a\"],[0.8888888888888888,\"#fdca26\"],[1.0,\"#f0f921\"]]}],\"choropleth\":[{\"type\":\"choropleth\",\"colorbar\":{\"outlinewidth\":0,\"ticks\":\"\"}}],\"histogram2d\":[{\"type\":\"histogram2d\",\"colorbar\":{\"outlinewidth\":0,\"ticks\":\"\"},\"colorscale\":[[0.0,\"#0d0887\"],[0.1111111111111111,\"#46039f\"],[0.2222222222222222,\"#7201a8\"],[0.3333333333333333,\"#9c179e\"],[0.4444444444444444,\"#bd3786\"],[0.5555555555555556,\"#d8576b\"],[0.6666666666666666,\"#ed7953\"],[0.7777777777777778,\"#fb9f3a\"],[0.8888888888888888,\"#fdca26\"],[1.0,\"#f0f921\"]]}],\"heatmap\":[{\"type\":\"heatmap\",\"colorbar\":{\"outlinewidth\":0,\"ticks\":\"\"},\"colorscale\":[[0.0,\"#0d0887\"],[0.1111111111111111,\"#46039f\"],[0.2222222222222222,\"#7201a8\"],[0.3333333333333333,\"#9c179e\"],[0.4444444444444444,\"#bd3786\"],[0.5555555555555556,\"#d8576b\"],[0.6666666666666666,\"#ed7953\"],[0.7777777777777778,\"#fb9f3a\"],[0.8888888888888888,\"#fdca26\"],[1.0,\"#f0f921\"]]}],\"heatmapgl\":[{\"type\":\"heatmapgl\",\"colorbar\":{\"outlinewidth\":0,\"ticks\":\"\"},\"colorscale\":[[0.0,\"#0d0887\"],[0.1111111111111111,\"#46039f\"],[0.2222222222222222,\"#7201a8\"],[0.3333333333333333,\"#9c179e\"],[0.4444444444444444,\"#bd3786\"],[0.5555555555555556,\"#d8576b\"],[0.6666666666666666,\"#ed7953\"],[0.7777777777777778,\"#fb9f3a\"],[0.8888888888888888,\"#fdca26\"],[1.0,\"#f0f921\"]]}],\"contourcarpet\":[{\"type\":\"contourcarpet\",\"colorbar\":{\"outlinewidth\":0,\"ticks\":\"\"}}],\"contour\":[{\"type\":\"contour\",\"colorbar\":{\"outlinewidth\":0,\"ticks\":\"\"},\"colorscale\":[[0.0,\"#0d0887\"],[0.1111111111111111,\"#46039f\"],[0.2222222222222222,\"#7201a8\"],[0.3333333333333333,\"#9c179e\"],[0.4444444444444444,\"#bd3786\"],[0.5555555555555556,\"#d8576b\"],[0.6666666666666666,\"#ed7953\"],[0.7777777777777778,\"#fb9f3a\"],[0.8888888888888888,\"#fdca26\"],[1.0,\"#f0f921\"]]}],\"surface\":[{\"type\":\"surface\",\"colorbar\":{\"outlinewidth\":0,\"ticks\":\"\"},\"colorscale\":[[0.0,\"#0d0887\"],[0.1111111111111111,\"#46039f\"],[0.2222222222222222,\"#7201a8\"],[0.3333333333333333,\"#9c179e\"],[0.4444444444444444,\"#bd3786\"],[0.5555555555555556,\"#d8576b\"],[0.6666666666666666,\"#ed7953\"],[0.7777777777777778,\"#fb9f3a\"],[0.8888888888888888,\"#fdca26\"],[1.0,\"#f0f921\"]]}],\"mesh3d\":[{\"type\":\"mesh3d\",\"colorbar\":{\"outlinewidth\":0,\"ticks\":\"\"}}],\"scatter\":[{\"fillpattern\":{\"fillmode\":\"overlay\",\"size\":10,\"solidity\":0.2},\"type\":\"scatter\"}],\"parcoords\":[{\"type\":\"parcoords\",\"line\":{\"colorbar\":{\"outlinewidth\":0,\"ticks\":\"\"}}}],\"scatterpolargl\":[{\"type\":\"scatterpolargl\",\"marker\":{\"colorbar\":{\"outlinewidth\":0,\"ticks\":\"\"}}}],\"bar\":[{\"error_x\":{\"color\":\"#2a3f5f\"},\"error_y\":{\"color\":\"#2a3f5f\"},\"marker\":{\"line\":{\"color\":\"#E5ECF6\",\"width\":0.5},\"pattern\":{\"fillmode\":\"overlay\",\"size\":10,\"solidity\":0.2}},\"type\":\"bar\"}],\"scattergeo\":[{\"type\":\"scattergeo\",\"marker\":{\"colorbar\":{\"outlinewidth\":0,\"ticks\":\"\"}}}],\"scatterpolar\":[{\"type\":\"scatterpolar\",\"marker\":{\"colorbar\":{\"outlinewidth\":0,\"ticks\":\"\"}}}],\"histogram\":[{\"marker\":{\"pattern\":{\"fillmode\":\"overlay\",\"size\":10,\"solidity\":0.2}},\"type\":\"histogram\"}],\"scattergl\":[{\"type\":\"scattergl\",\"marker\":{\"colorbar\":{\"outlinewidth\":0,\"ticks\":\"\"}}}],\"scatter3d\":[{\"type\":\"scatter3d\",\"line\":{\"colorbar\":{\"outlinewidth\":0,\"ticks\":\"\"}},\"marker\":{\"colorbar\":{\"outlinewidth\":0,\"ticks\":\"\"}}}],\"scattermapbox\":[{\"type\":\"scattermapbox\",\"marker\":{\"colorbar\":{\"outlinewidth\":0,\"ticks\":\"\"}}}],\"scatterternary\":[{\"type\":\"scatterternary\",\"marker\":{\"colorbar\":{\"outlinewidth\":0,\"ticks\":\"\"}}}],\"scattercarpet\":[{\"type\":\"scattercarpet\",\"marker\":{\"colorbar\":{\"outlinewidth\":0,\"ticks\":\"\"}}}],\"carpet\":[{\"aaxis\":{\"endlinecolor\":\"#2a3f5f\",\"gridcolor\":\"white\",\"linecolor\":\"white\",\"minorgridcolor\":\"white\",\"startlinecolor\":\"#2a3f5f\"},\"baxis\":{\"endlinecolor\":\"#2a3f5f\",\"gridcolor\":\"white\",\"linecolor\":\"white\",\"minorgridcolor\":\"white\",\"startlinecolor\":\"#2a3f5f\"},\"type\":\"carpet\"}],\"table\":[{\"cells\":{\"fill\":{\"color\":\"#EBF0F8\"},\"line\":{\"color\":\"white\"}},\"header\":{\"fill\":{\"color\":\"#C8D4E3\"},\"line\":{\"color\":\"white\"}},\"type\":\"table\"}],\"barpolar\":[{\"marker\":{\"line\":{\"color\":\"#E5ECF6\",\"width\":0.5},\"pattern\":{\"fillmode\":\"overlay\",\"size\":10,\"solidity\":0.2}},\"type\":\"barpolar\"}],\"pie\":[{\"automargin\":true,\"type\":\"pie\"}]},\"layout\":{\"autotypenumbers\":\"strict\",\"colorway\":[\"#636efa\",\"#EF553B\",\"#00cc96\",\"#ab63fa\",\"#FFA15A\",\"#19d3f3\",\"#FF6692\",\"#B6E880\",\"#FF97FF\",\"#FECB52\"],\"font\":{\"color\":\"#2a3f5f\"},\"hovermode\":\"closest\",\"hoverlabel\":{\"align\":\"left\"},\"paper_bgcolor\":\"white\",\"plot_bgcolor\":\"#E5ECF6\",\"polar\":{\"bgcolor\":\"#E5ECF6\",\"angularaxis\":{\"gridcolor\":\"white\",\"linecolor\":\"white\",\"ticks\":\"\"},\"radialaxis\":{\"gridcolor\":\"white\",\"linecolor\":\"white\",\"ticks\":\"\"}},\"ternary\":{\"bgcolor\":\"#E5ECF6\",\"aaxis\":{\"gridcolor\":\"white\",\"linecolor\":\"white\",\"ticks\":\"\"},\"baxis\":{\"gridcolor\":\"white\",\"linecolor\":\"white\",\"ticks\":\"\"},\"caxis\":{\"gridcolor\":\"white\",\"linecolor\":\"white\",\"ticks\":\"\"}},\"coloraxis\":{\"colorbar\":{\"outlinewidth\":0,\"ticks\":\"\"}},\"colorscale\":{\"sequential\":[[0.0,\"#0d0887\"],[0.1111111111111111,\"#46039f\"],[0.2222222222222222,\"#7201a8\"],[0.3333333333333333,\"#9c179e\"],[0.4444444444444444,\"#bd3786\"],[0.5555555555555556,\"#d8576b\"],[0.6666666666666666,\"#ed7953\"],[0.7777777777777778,\"#fb9f3a\"],[0.8888888888888888,\"#fdca26\"],[1.0,\"#f0f921\"]],\"sequentialminus\":[[0.0,\"#0d0887\"],[0.1111111111111111,\"#46039f\"],[0.2222222222222222,\"#7201a8\"],[0.3333333333333333,\"#9c179e\"],[0.4444444444444444,\"#bd3786\"],[0.5555555555555556,\"#d8576b\"],[0.6666666666666666,\"#ed7953\"],[0.7777777777777778,\"#fb9f3a\"],[0.8888888888888888,\"#fdca26\"],[1.0,\"#f0f921\"]],\"diverging\":[[0,\"#8e0152\"],[0.1,\"#c51b7d\"],[0.2,\"#de77ae\"],[0.3,\"#f1b6da\"],[0.4,\"#fde0ef\"],[0.5,\"#f7f7f7\"],[0.6,\"#e6f5d0\"],[0.7,\"#b8e186\"],[0.8,\"#7fbc41\"],[0.9,\"#4d9221\"],[1,\"#276419\"]]},\"xaxis\":{\"gridcolor\":\"white\",\"linecolor\":\"white\",\"ticks\":\"\",\"title\":{\"standoff\":15},\"zerolinecolor\":\"white\",\"automargin\":true,\"zerolinewidth\":2},\"yaxis\":{\"gridcolor\":\"white\",\"linecolor\":\"white\",\"ticks\":\"\",\"title\":{\"standoff\":15},\"zerolinecolor\":\"white\",\"automargin\":true,\"zerolinewidth\":2},\"scene\":{\"xaxis\":{\"backgroundcolor\":\"#E5ECF6\",\"gridcolor\":\"white\",\"linecolor\":\"white\",\"showbackground\":true,\"ticks\":\"\",\"zerolinecolor\":\"white\",\"gridwidth\":2},\"yaxis\":{\"backgroundcolor\":\"#E5ECF6\",\"gridcolor\":\"white\",\"linecolor\":\"white\",\"showbackground\":true,\"ticks\":\"\",\"zerolinecolor\":\"white\",\"gridwidth\":2},\"zaxis\":{\"backgroundcolor\":\"#E5ECF6\",\"gridcolor\":\"white\",\"linecolor\":\"white\",\"showbackground\":true,\"ticks\":\"\",\"zerolinecolor\":\"white\",\"gridwidth\":2}},\"shapedefaults\":{\"line\":{\"color\":\"#2a3f5f\"}},\"annotationdefaults\":{\"arrowcolor\":\"#2a3f5f\",\"arrowhead\":0,\"arrowwidth\":1},\"geo\":{\"bgcolor\":\"white\",\"landcolor\":\"#E5ECF6\",\"subunitcolor\":\"white\",\"showland\":true,\"showlakes\":true,\"lakecolor\":\"white\"},\"title\":{\"x\":0.05},\"mapbox\":{\"style\":\"light\"}}},\"xaxis\":{\"anchor\":\"y\",\"domain\":[0.0,1.0],\"title\":{\"text\":\"prob\"}},\"yaxis\":{\"anchor\":\"x\",\"domain\":[0.0,1.0],\"title\":{\"text\":\"value\"}},\"legend\":{\"title\":{\"text\":\"variable\"},\"tracegroupgap\":0},\"margin\":{\"t\":60}},                        {\"responsive\": true}                    ).then(function(){\n",
       "                            \n",
       "var gd = document.getElementById('5425e3ab-b2ed-4808-99ae-fd24c1d7f06c');\n",
       "var x = new MutationObserver(function (mutations, observer) {{\n",
       "        var display = window.getComputedStyle(gd).display;\n",
       "        if (!display || display === 'none') {{\n",
       "            console.log([gd, 'removed!']);\n",
       "            Plotly.purge(gd);\n",
       "            observer.disconnect();\n",
       "        }}\n",
       "}});\n",
       "\n",
       "// Listen for the removal of the full notebook cells\n",
       "var notebookContainer = gd.closest('#notebook-container');\n",
       "if (notebookContainer) {{\n",
       "    x.observe(notebookContainer, {childList: true});\n",
       "}}\n",
       "\n",
       "// Listen for the clearing of the current output cell\n",
       "var outputEl = gd.closest('.output');\n",
       "if (outputEl) {{\n",
       "    x.observe(outputEl, {childList: true});\n",
       "}}\n",
       "\n",
       "                        })                };                });            </script>        </div>"
      ]
     },
     "metadata": {},
     "output_type": "display_data"
    }
   ],
   "source": [
    "fig = px.line(df, x = \"prob\", y=df.columns[1:3])\n",
    "fig.show()"
   ]
  },
  {
   "cell_type": "code",
   "execution_count": 48,
   "metadata": {
    "id": "zT6QLHgnwAE7"
   },
   "outputs": [
    {
     "data": {
      "text/plain": [
       "0.07660606060606061"
      ]
     },
     "execution_count": 48,
     "metadata": {},
     "output_type": "execute_result"
    }
   ],
   "source": [
    "p_th"
   ]
  },
  {
   "cell_type": "code",
   "execution_count": null,
   "metadata": {
    "id": "Ihl-SPoztko6"
   },
   "outputs": [],
   "source": []
  },
  {
   "cell_type": "code",
   "execution_count": null,
   "metadata": {
    "id": "Go53uW24xGS-"
   },
   "outputs": [],
   "source": []
  },
  {
   "cell_type": "code",
   "execution_count": null,
   "metadata": {
    "id": "ULEcEYEZxF8-"
   },
   "outputs": [],
   "source": [
    "# Peeling decoder needs to be updated for N copies"
   ]
  },
  {
   "cell_type": "code",
   "execution_count": 12,
   "metadata": {
    "id": "VjSytb28IxCu"
   },
   "outputs": [
    {
     "data": {
      "text/plain": [
       "{0: ('00', ['00']), 1: ('01', ['01']), 2: ('10', ['10']), 3: ('11', ['11'])}"
      ]
     },
     "execution_count": 12,
     "metadata": {},
     "output_type": "execute_result"
    }
   ],
   "source": [
    "CNT = 5\n",
    "graph_out_star, graph_in_star = peel_dec(N, C, CNT, copy.deepcopy(graph_out_org), copy.deepcopy(graph_in_org))\n",
    "graph_in_star"
   ]
  },
  {
   "cell_type": "code",
   "execution_count": null,
   "metadata": {
    "id": "IfCdhNFnxFmQ"
   },
   "outputs": [],
   "source": []
  },
  {
   "cell_type": "code",
   "execution_count": null,
   "metadata": {
    "id": "7RaIASc9l_AJ"
   },
   "outputs": [],
   "source": []
  },
  {
   "cell_type": "code",
   "execution_count": null,
   "metadata": {
    "id": "Uvnh8rtzl-ua"
   },
   "outputs": [],
   "source": []
  },
  {
   "cell_type": "code",
   "execution_count": null,
   "metadata": {
    "id": "IKaBqYfll-ca"
   },
   "outputs": [],
   "source": []
  },
  {
   "cell_type": "code",
   "execution_count": null,
   "metadata": {
    "id": "PR1aCjuul-MK"
   },
   "outputs": [],
   "source": []
  },
  {
   "cell_type": "code",
   "execution_count": null,
   "metadata": {
    "id": "ZdSxHCMCl958"
   },
   "outputs": [],
   "source": []
  },
  {
   "cell_type": "code",
   "execution_count": null,
   "metadata": {
    "id": "KQruuitmEs6l"
   },
   "outputs": [],
   "source": [
    "np.linspace(0.01,0.1,10)"
   ]
  },
  {
   "cell_type": "code",
   "execution_count": 13,
   "metadata": {
    "id": "jHJ9RP2nYWIW"
   },
   "outputs": [
    {
     "ename": "TypeError",
     "evalue": "ers_chan() missing 1 required positional argument: 'p'",
     "output_type": "error",
     "traceback": [
      "\u001b[0;31m---------------------------------------------------------------------------\u001b[0m",
      "\u001b[0;31mTypeError\u001b[0m                                 Traceback (most recent call last)",
      "Input \u001b[0;32mIn [13]\u001b[0m, in \u001b[0;36m<cell line: 6>\u001b[0;34m()\u001b[0m\n\u001b[1;32m      7\u001b[0m err \u001b[38;5;241m=\u001b[39m \u001b[38;5;241m0\u001b[39m\n\u001b[1;32m      8\u001b[0m \u001b[38;5;28;01mfor\u001b[39;00m i \u001b[38;5;129;01min\u001b[39;00m \u001b[38;5;28mrange\u001b[39m(TEST):\n\u001b[0;32m----> 9\u001b[0m   Y,IO \u001b[38;5;241m=\u001b[39m \u001b[43mers_chan\u001b[49m\u001b[43m(\u001b[49m\u001b[43mC\u001b[49m\u001b[43m,\u001b[49m\u001b[43mp\u001b[49m\u001b[43m)\u001b[49m\n\u001b[1;32m     10\u001b[0m   graph_out_org \u001b[38;5;241m=\u001b[39m buil_graph_out(IO)\n\u001b[1;32m     11\u001b[0m   graph_in_org \u001b[38;5;241m=\u001b[39m build_graph_in(graph_out_org)\n",
      "\u001b[0;31mTypeError\u001b[0m: ers_chan() missing 1 required positional argument: 'p'"
     ]
    }
   ],
   "source": [
    "n = 5\n",
    "p_dict = np.linspace(0.01,0.1,10)\n",
    "C = bin_space_gen(n)\n",
    "TEST = 1000\n",
    "P_err = []\n",
    "for p in p_dict: \n",
    "  err = 0\n",
    "  for i in range(TEST):\n",
    "    Y,IO = ers_chan(C,p)\n",
    "    graph_out_org = buil_graph_out(IO)\n",
    "    graph_in_org = build_graph_in(graph_out_org)\n",
    "    graph_out_star, graph_in_star, res = peel_dec(CNT, graph_out_org, graph_in_org)\n",
    "    err+= res \n",
    "  P_err.append(err/TEST) "
   ]
  },
  {
   "cell_type": "code",
   "execution_count": null,
   "metadata": {
    "id": "pkwnkF0-eQFx"
   },
   "outputs": [],
   "source": [
    "P_err"
   ]
  },
  {
   "cell_type": "code",
   "execution_count": null,
   "metadata": {
    "id": "9gAXfHZ2blZa"
   },
   "outputs": [],
   "source": [
    "n = 6\n",
    "p_dict = np.linspace(0.01,0.1,10)\n",
    "C = bin_space_gen(n)\n",
    "TEST = 1000\n",
    "P_err = []\n",
    "\n",
    "\n",
    "for p in p_dict: \n",
    "  err = 0\n",
    "  for i in range(TEST):\n",
    "    Y,IO = ers_chan(C,p)\n",
    "    graph_out_org = buil_graph_out(IO)\n",
    "    graph_in_org = build_graph_in(graph_out_org)\n",
    "    graph_out_star, graph_in_star, res = peel_dec(CNT, graph_out_org, graph_in_org)\n",
    "    err+= res \n",
    "  P_err.append(err/TEST) "
   ]
  },
  {
   "cell_type": "code",
   "execution_count": null,
   "metadata": {
    "id": "xXwF2E5ScNVR"
   },
   "outputs": [],
   "source": [
    "P_err"
   ]
  },
  {
   "cell_type": "code",
   "execution_count": null,
   "metadata": {
    "id": "8IXr8ysLcRq1"
   },
   "outputs": [],
   "source": [
    "np.linspace(3,8,6)"
   ]
  },
  {
   "cell_type": "code",
   "execution_count": null,
   "metadata": {
    "id": "0MkN7Obyeoi8"
   },
   "outputs": [],
   "source": [
    "p = 0.02\n",
    "n_dict = np.linspace(3,8,6)\n",
    "TEST = 1000\n",
    "P_err = []\n",
    "\n",
    "for n in n_dict:\n",
    "  n = int(n) \n",
    "  C = bin_space_gen(n)\n",
    "  err = 0\n",
    "  for i in range(TEST):\n",
    "    Y,IO = ers_chan(C,p)\n",
    "    graph_out_org = buil_graph_out(IO)\n",
    "    graph_in_org = build_graph_in(graph_out_org)\n",
    "    graph_out_star, graph_in_star, res = peel_dec(CNT, graph_out_org, graph_in_org)\n",
    "    err+= res \n",
    "  P_err.append(err/TEST) \n",
    "  print(n, err/TEST)"
   ]
  },
  {
   "cell_type": "code",
   "execution_count": null,
   "metadata": {
    "id": "14pJkagZfKRy"
   },
   "outputs": [],
   "source": [
    "n = 4\n",
    "p_dict = np.linspace(0.001,0.8,1600)\n",
    "C = bin_space_gen(n)\n",
    "TEST = 1500\n",
    "P_err = []\n",
    "for p in p_dict: \n",
    "  err = 0\n",
    "  for i in range(TEST):\n",
    "    Y,IO = ers_chan(C,p)\n",
    "    graph_out_org = buil_graph_out(IO)\n",
    "    graph_in_org = build_graph_in(graph_out_org)\n",
    "    graph_out_star, graph_in_star, res = peel_dec(CNT, graph_out_org, graph_in_org)\n",
    "    err+= res \n",
    "  P_err.append(err/TEST) \n",
    "  # print(p, err)"
   ]
  },
  {
   "cell_type": "code",
   "execution_count": null,
   "metadata": {
    "id": "1JCDq4vThShU"
   },
   "outputs": [],
   "source": [
    "# n = 3\n",
    "plt.plot(p_dict, P_err)\n",
    "plt.show()"
   ]
  },
  {
   "cell_type": "code",
   "execution_count": null,
   "metadata": {
    "id": "mzM56oByvVxc"
   },
   "outputs": [],
   "source": [
    "plt.plot(p_dict, P_err)&\n",
    "plt.show()"
   ]
  },
  {
   "cell_type": "code",
   "execution_count": null,
   "metadata": {
    "id": "W1VzSZo4vV5t"
   },
   "outputs": [],
   "source": [
    "# # n = 4 \n",
    "# plt.plot(p_dict, P_err)\n",
    "# plt.show()"
   ]
  },
  {
   "cell_type": "code",
   "execution_count": null,
   "metadata": {
    "id": "aVZLDzEqhh4_"
   },
   "outputs": [],
   "source": []
  },
  {
   "cell_type": "code",
   "execution_count": null,
   "metadata": {
    "id": "7E8datrjhiUC"
   },
   "outputs": [],
   "source": []
  },
  {
   "cell_type": "code",
   "execution_count": null,
   "metadata": {
    "id": "B6w0hx26hihf"
   },
   "outputs": [],
   "source": []
  },
  {
   "cell_type": "code",
   "execution_count": null,
   "metadata": {
    "id": "8AoXocxNhilL"
   },
   "outputs": [],
   "source": []
  },
  {
   "cell_type": "code",
   "execution_count": null,
   "metadata": {
    "id": "KYLzVgxOhi3l"
   },
   "outputs": [],
   "source": []
  },
  {
   "cell_type": "code",
   "execution_count": null,
   "metadata": {
    "id": "3xiD7TazhjI7"
   },
   "outputs": [],
   "source": [
    "#  PERMANENT OF A MATRIX - UPPER BOUND ON THE DECODING ERROR PROBABILITY OF PEELING DECODER"
   ]
  },
  {
   "cell_type": "code",
   "execution_count": null,
   "metadata": {
    "id": "uUkWTJ3Wh0dP"
   },
   "outputs": [],
   "source": [
    "from sympy import *\n",
    "from sympy.abc import x,y,X,Y"
   ]
  },
  {
   "cell_type": "code",
   "execution_count": null,
   "metadata": {
    "id": "nWp4S2mionDq"
   },
   "outputs": [],
   "source": [
    "def ham_dist(a,b):\n",
    "  cnt = 0\n",
    "  for i in range(len(a)):\n",
    "    if(a[i]!=b[i]):\n",
    "      cnt+=1 \n",
    "  return cnt "
   ]
  },
  {
   "cell_type": "code",
   "execution_count": null,
   "metadata": {
    "id": "gH-O662gqSH4"
   },
   "outputs": [],
   "source": [
    "def n_fact(n):\n",
    "  if(n>1):\n",
    "    return n*n_fact(n-1)\n",
    "  else:\n",
    "    return 1\n",
    "\n",
    "def rem_rc(U,r,c): \n",
    "  U_sub = np.delete(U, r, 0)\n",
    "  U_sub = np.delete(U_sub, c, 1)\n",
    "  return U_sub"
   ]
  },
  {
   "cell_type": "code",
   "execution_count": null,
   "metadata": {
    "id": "RajiNdEivT7y"
   },
   "outputs": [],
   "source": [
    "def perm(P,U):\n",
    "  PERM = 0 \n",
    "  if  len(U)>2:\n",
    "    for j in range(len(U)):\n",
    "      PERM += perm(P+U[0][j],rem_rc(U,0,j))\n",
    "    return PERM \n",
    "  else:\n",
    "    # print(P, p**(P+U[0][0]+U[1][1]) + p**(P+U[1][0]+U[0][1]))\n",
    "    return p**(P+U[0][0]+U[1][1]) + p**(P+U[1][0]+U[0][1])\n",
    "    "
   ]
  },
  {
   "cell_type": "code",
   "execution_count": null,
   "metadata": {
    "id": "8PX5w7LqCJ5I"
   },
   "outputs": [],
   "source": [
    "n = 3\n",
    "M = 2**n\n",
    "C = bin_space_gen(n)\n",
    "U = np.zeros((M,M))\n",
    "for i in range(M):\n",
    "  for j in range(M):\n",
    "    U[i][j] = ham_dist(C[i],C[j])"
   ]
  },
  {
   "cell_type": "code",
   "execution_count": null,
   "metadata": {
    "id": "8UU4dHC2CoRk"
   },
   "outputs": [],
   "source": [
    "M"
   ]
  },
  {
   "cell_type": "code",
   "execution_count": null,
   "metadata": {
    "id": "FogA2BjQ6d1h"
   },
   "outputs": [],
   "source": [
    "Uf"
   ]
  },
  {
   "cell_type": "code",
   "execution_count": null,
   "metadata": {
    "id": "xpYP3Ua8FEnB"
   },
   "outputs": [],
   "source": []
  },
  {
   "cell_type": "code",
   "execution_count": null,
   "metadata": {
    "id": "s93a6Wy9vUn4"
   },
   "outputs": [],
   "source": [
    "p = symbols('p')\n",
    "PERM = perm(0,U)"
   ]
  },
  {
   "cell_type": "code",
   "execution_count": null,
   "metadata": {
    "id": "rKhqCC5szpm4"
   },
   "outputs": [],
   "source": [
    "PERM"
   ]
  },
  {
   "cell_type": "code",
   "execution_count": null,
   "metadata": {
    "id": "Uyqw_Fnl0TGx"
   },
   "outputs": [],
   "source": [
    "temp = n_fact(8)\n",
    "for i in range(1,9):\n",
    "  print(temp/n_fact(i))"
   ]
  },
  {
   "cell_type": "code",
   "execution_count": null,
   "metadata": {
    "id": "7iFeDMArFFL4"
   },
   "outputs": [],
   "source": [
    "for j in range(int(len(U)/2)):\n",
    "  print(perm(U[0][j],rem_rc(U,0,j)))"
   ]
  },
  {
   "cell_type": "code",
   "execution_count": null,
   "metadata": {
    "id": "b0BB0zyWFS92"
   },
   "outputs": [],
   "source": []
  }
 ],
 "metadata": {
  "colab": {
   "collapsed_sections": [],
   "name": "BEE ID.ipynb",
   "provenance": []
  },
  "kernelspec": {
   "display_name": "Python 3 (ipykernel)",
   "language": "python",
   "name": "python3"
  },
  "language_info": {
   "codemirror_mode": {
    "name": "ipython",
    "version": 3
   },
   "file_extension": ".py",
   "mimetype": "text/x-python",
   "name": "python",
   "nbconvert_exporter": "python",
   "pygments_lexer": "ipython3",
   "version": "3.10.4"
  }
 },
 "nbformat": 4,
 "nbformat_minor": 1
}
