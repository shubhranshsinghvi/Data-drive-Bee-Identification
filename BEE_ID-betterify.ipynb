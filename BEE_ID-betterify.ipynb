{
 "cells": [
  {
   "cell_type": "code",
   "execution_count": 1,
   "metadata": {
    "id": "hwnTzmkJb01Z"
   },
   "outputs": [],
   "source": [
    "import math \n",
    "import random\n",
    "import numpy as np\n",
    "import copy\n",
    "import matplotlib.pyplot as plt\n",
    "import plotly.express as px\n",
    "import pandas as pd"
   ]
  },
  {
   "cell_type": "code",
   "execution_count": 24,
   "metadata": {},
   "outputs": [
    {
     "name": "stdout",
     "output_type": "stream",
     "text": [
      "5 16.426096125832604 24.8475425249557\n",
      "6 23.7346163456072 61.03970985294617\n",
      "7 34.173612178911846 68.56915134833612\n",
      "8 49.08527027815739 165.88291261730967\n",
      "9 70.38681802549492 182.1808783991919\n",
      "10 100.81703263058237 440.599838120738\n",
      "11 144.28837352436796 478.7726127801131\n",
      "12 206.3900146893135 1159.505444369013\n",
      "13 295.10645361523177 1251.2365574272283\n",
      "14 421.8440899670071 3031.5146380167275\n",
      "15 602.8977628868795 3252.7260348355558\n",
      "16 861.5458018394986 7875.661729663375\n",
      "17 1231.0429547339372 8407.439504866494\n",
      "18 1758.8959983921027 20330.19610015734\n",
      "19 2512.9717527234734 21603.474455078074\n",
      "20 3590.2228147187852 52157.29807787772\n",
      "21 5129.152892350898 55196.68624513431\n",
      "22 7327.624424174225 133043.4369354501\n",
      "23 10468.298035710333 140284.89646883105\n",
      "24 14954.974619875686 337605.4270300475\n",
      "25 21364.512594616674 354842.21882848203\n",
      "26 30520.995413830067 852717.5095090691\n",
      "27 43601.6851543979 893734.30965466\n",
      "28 62288.38478281259 2144917.718236882\n",
      "29 88983.6699651676 2242532.5042284373\n",
      "30 127119.79165496535 5375677.71633241\n",
      "31 181599.96549470536 5608061.953716059\n",
      "32 259428.7852715951 13429350.792138297\n",
      "33 370612.8135174001 13982800.997062858\n",
      "34 529447.1395877481 33453244.942568053\n",
      "35 756353.31967012 34770826.41664649\n",
      "36 1080505.0055281005 83126089.78462888\n",
      "37 1543578.842371312 86257375.76820251\n",
      "38 2205112.8950906144 206107678.79887936\n",
      "39 3150161.5424605072 213633677.17462698\n",
      "40 4500231.038075149 508936864.1157881\n",
      "41 6428901.745722373 528905792.03289753\n",
      "42 9184145.614926135 1249849614.4847937\n",
      "43 13120208.284454597 1295741845.4041257\n",
      "44 18743154.939328242 3117475920.878697\n",
      "45 26775935.884261157 3099160703.882826\n",
      "46 38251337.26710528 8862572079.761438\n",
      "47 54644767.81456542 6401606287.75431\n"
     ]
    },
    {
     "ename": "ZeroDivisionError",
     "evalue": "float division by zero",
     "output_type": "error",
     "traceback": [
      "\u001b[0;31m---------------------------------------------------------------------------\u001b[0m",
      "\u001b[0;31mZeroDivisionError\u001b[0m                         Traceback (most recent call last)",
      "Input \u001b[0;32mIn [24]\u001b[0m, in \u001b[0;36m<cell line: 5>\u001b[0;34m()\u001b[0m\n\u001b[1;32m      5\u001b[0m \u001b[38;5;28;01mfor\u001b[39;00m n \u001b[38;5;129;01min\u001b[39;00m \u001b[38;5;28mrange\u001b[39m(\u001b[38;5;241m5\u001b[39m,\u001b[38;5;241m50\u001b[39m):\n\u001b[1;32m      6\u001b[0m     d \u001b[38;5;241m=\u001b[39m math\u001b[38;5;241m.\u001b[39mfloor(n\u001b[38;5;241m/\u001b[39m\u001b[38;5;241m2\u001b[39m)\n\u001b[0;32m----> 7\u001b[0m     N_n2\u001b[38;5;241m.\u001b[39mappend(\u001b[43mmath\u001b[49m\u001b[38;5;241;43m.\u001b[39;49m\u001b[43mlog\u001b[49m\u001b[43m(\u001b[49m\u001b[38;5;241;43m1\u001b[39;49m\u001b[38;5;241;43m-\u001b[39;49m\u001b[43mmath\u001b[49m\u001b[38;5;241;43m.\u001b[39;49m\u001b[43msqrt\u001b[49m\u001b[43m(\u001b[49m\u001b[38;5;241;43m1\u001b[39;49m\u001b[38;5;241;43m-\u001b[39;49m\u001b[43m(\u001b[49m\u001b[38;5;241;43m2\u001b[39;49m\u001b[38;5;241;43m*\u001b[39;49m\u001b[38;5;241;43m*\u001b[39;49m\u001b[43m(\u001b[49m\u001b[38;5;241;43m-\u001b[39;49m\u001b[43mn\u001b[49m\u001b[38;5;241;43m/\u001b[39;49m\u001b[43mchoose\u001b[49m\u001b[43m(\u001b[49m\u001b[43mn\u001b[49m\u001b[43m,\u001b[49m\u001b[43md\u001b[49m\u001b[43m)\u001b[49m\u001b[43m)\u001b[49m\u001b[43m)\u001b[49m\u001b[43m)\u001b[49m\u001b[43m,\u001b[49m\u001b[38;5;241;43m2\u001b[39;49m\u001b[43m)\u001b[49m\u001b[38;5;241;43m/\u001b[39;49m\u001b[43mmath\u001b[49m\u001b[38;5;241;43m.\u001b[39;49m\u001b[43mlog\u001b[49m\u001b[43m(\u001b[49m\u001b[38;5;241;43m1\u001b[39;49m\u001b[38;5;241;43m-\u001b[39;49m\u001b[43m(\u001b[49m\u001b[43m(\u001b[49m\u001b[43mp\u001b[49m\u001b[38;5;241;43m*\u001b[39;49m\u001b[38;5;241;43m*\u001b[39;49m\u001b[43md\u001b[49m\u001b[43m)\u001b[49m\u001b[38;5;241;43m*\u001b[39;49m\u001b[43m(\u001b[49m\u001b[43m(\u001b[49m\u001b[38;5;241;43m1\u001b[39;49m\u001b[38;5;241;43m-\u001b[39;49m\u001b[43mp\u001b[49m\u001b[43m)\u001b[49m\u001b[38;5;241;43m*\u001b[39;49m\u001b[38;5;241;43m*\u001b[39;49m\u001b[43m(\u001b[49m\u001b[43mn\u001b[49m\u001b[38;5;241;43m-\u001b[39;49m\u001b[43md\u001b[49m\u001b[43m)\u001b[49m\u001b[43m)\u001b[49m\u001b[43m)\u001b[49m\u001b[43m,\u001b[49m\u001b[38;5;241;43m2\u001b[39;49m\u001b[43m)\u001b[49m)\n\u001b[1;32m      8\u001b[0m     N_n\u001b[38;5;241m.\u001b[39mappend(math\u001b[38;5;241m.\u001b[39mlog(\u001b[38;5;241m1\u001b[39m\u001b[38;5;241m-\u001b[39m\u001b[38;5;241m1\u001b[39m\u001b[38;5;241m/\u001b[39mmath\u001b[38;5;241m.\u001b[39msqrt(\u001b[38;5;241m2\u001b[39m),\u001b[38;5;241m2\u001b[39m)\u001b[38;5;241m/\u001b[39mmath\u001b[38;5;241m.\u001b[39mlog(\u001b[38;5;241m1\u001b[39m\u001b[38;5;241m-\u001b[39mp\u001b[38;5;241m*\u001b[39m((\u001b[38;5;241m1\u001b[39m\u001b[38;5;241m-\u001b[39mp)\u001b[38;5;241m*\u001b[39m\u001b[38;5;241m*\u001b[39m(n\u001b[38;5;241m-\u001b[39m\u001b[38;5;241m1\u001b[39m)),\u001b[38;5;241m2\u001b[39m))\n\u001b[1;32m      9\u001b[0m     \u001b[38;5;28mprint\u001b[39m(n,N_n[cnt],N_n2[cnt])\n",
      "\u001b[0;31mZeroDivisionError\u001b[0m: float division by zero"
     ]
    }
   ],
   "source": [
    "N_n = []\n",
    "N_n2 = []\n",
    "p = 0.3\n",
    "cnt = 0\n",
    "for n in range(5,50):\n",
    "    d = math.floor(n/2)\n",
    "    N_n2.append(math.log(1-math.sqrt(1-(2**(-n/choose(n,d)))),2)/math.log(1-((p**d)*((1-p)**(n-d))),2))\n",
    "    N_n.append(math.log(1-1/math.sqrt(2),2)/math.log(1-p*((1-p)**(n-1)),2))\n",
    "    print(n,N_n[cnt],N_n2[cnt])\n",
    "    cnt+=1\n",
    "    "
   ]
  },
  {
   "cell_type": "code",
   "execution_count": 11,
   "metadata": {},
   "outputs": [
    {
     "data": {
      "text/plain": [
       "1.0717734625362931"
      ]
     },
     "execution_count": 11,
     "metadata": {},
     "output_type": "execute_result"
    }
   ],
   "source": [
    "2**(1/10)"
   ]
  },
  {
   "cell_type": "code",
   "execution_count": 2,
   "metadata": {
    "id": "CvcsuDwcb5Ai"
   },
   "outputs": [],
   "source": [
    "def bin_space_gen(d):\n",
    "    all_coeff = {}\n",
    "    for i in range(0,2**(d)): \n",
    "        t = i\n",
    "        all_coeff[i] = \"\"\n",
    "        for j in range (0,d):\n",
    "            all_coeff[i]= str(t%2)+all_coeff[i]\n",
    "            t = int(t/2)\n",
    "    return all_coeff"
   ]
  },
  {
   "cell_type": "code",
   "execution_count": 3,
   "metadata": {},
   "outputs": [],
   "source": [
    "def ter_space_gen(d):\n",
    "    all_coeff = {}\n",
    "    for i in range(0,3**(d)): \n",
    "        t = i\n",
    "        all_coeff[i] = \"\"\n",
    "        for j in range (0,d):\n",
    "            all_coeff[i]= str(t%3)+all_coeff[i]\n",
    "            t = int(t/3)\n",
    "    return all_coeff\n",
    "\n",
    "def ter_dec(y):\n",
    "    y_dec = 0\n",
    "    for i in range(len(y)):\n",
    "        if(y[i]==\"1\"):\n",
    "            y_dec += 3**(len(y)-i-1)\n",
    "        if(y[i]==\"*\" or y[i]==\"2\"):\n",
    "            y_dec += 2*3**(len(y)-i-1)\n",
    "    return y_dec\n",
    "    "
   ]
  },
  {
   "cell_type": "code",
   "execution_count": 16,
   "metadata": {
    "id": "LbJg1oBxbbYl"
   },
   "outputs": [],
   "source": [
    "def choose(n, k):\n",
    "    \"\"\"\n",
    "    A fast way to calculate binomial coefficients by Andrew Dalke (contrib).\n",
    "    \"\"\"\n",
    "    if 0 <= k <= n:\n",
    "        ntok = 1\n",
    "        ktok = 1\n",
    "        for t in range(1, min(k, n - k) + 1):\n",
    "            ntok *= n\n",
    "            ktok *= t\n",
    "            n -= 1\n",
    "        return ntok // ktok\n",
    "    else:\n",
    "        return 0"
   ]
  },
  {
   "cell_type": "code",
   "execution_count": 5,
   "metadata": {
    "id": "Nz1_xkmqb79R"
   },
   "outputs": [],
   "source": [
    "def BSC(x,p):\n",
    "  y = \"\"\n",
    "  for i in range(len(x)):\n",
    "    if np.random.binomial(1, p):\n",
    "      y += str((int(x[i])+1)%2)\n",
    "    else:\n",
    "      y += x[i]\n",
    "  return y\n",
    "\n",
    "def BEC(x,p):\n",
    "  y = \"\"\n",
    "  for i in range(len(x)):\n",
    "    if np.random.binomial(1, p):\n",
    "      y += \"*\"\n",
    "    else:\n",
    "      y += x[i]\n",
    "  return y\n",
    "\n",
    "def gen_data(C,L):\n",
    "    D = {}\n",
    "    for i in range(len(C)):\n",
    "        d = \"\"\n",
    "        for _ in range(L):\n",
    "            d += random.choice((\"0\",\"1\"))\n",
    "        D[i] = (C[i],d)\n",
    "    return D\n",
    "\n",
    "def ers_chan(N,D,p):\n",
    "    Y = {}\n",
    "    IO = {}\n",
    "    for i in range(len(D)): \n",
    "        for j in range(N):\n",
    "            y = BEC(D[i][0],p) \n",
    "            d_dash = BEC(D[i][1],p)\n",
    "            Y[N*i+j] = (y,d_dash)\n",
    "            IO[N*i+j] = (D[i],Y[N*i+j])\n",
    "    return Y,IO"
   ]
  },
  {
   "cell_type": "code",
   "execution_count": 6,
   "metadata": {
    "id": "mROEoN52gXi5"
   },
   "outputs": [],
   "source": [
    "def bin_dec(y):\n",
    "  y_dec = 0\n",
    "  for i in range(len(y)):\n",
    "    if(y[i]==\"1\"):\n",
    "      y_dec += 2**(len(y)-i-1)\n",
    "  return y_dec\n",
    "  \n",
    "def dec_bin(y):\n",
    "  y_bin = \"\"\n",
    "  while(y>0):\n",
    "    y_bin = str(y%2) + y_bin\n",
    "    y = int(y/2)\n",
    "  return y_bin\n",
    "\n",
    "def pos_inps(y):\n",
    "  inps = []\n",
    "  ers = []\n",
    "  for i in range(len(y)):\n",
    "    if(y[i]==\"*\"):\n",
    "      ers.append(i)\n",
    "  ers_rep = bin_space_gen(len(ers))\n",
    "  for i in range(len(ers_rep)):\n",
    "    inp = list(y)\n",
    "    for j in range(len(ers)):\n",
    "      inp[ers[j]] = ers_rep[i][j]\n",
    "    inp_str = \"\"\n",
    "    for j in range(len(inp)):\n",
    "      inp_str += inp[j]\n",
    "    inps.append(inp_str)\n",
    "  \n",
    "  return inps\n",
    "\n",
    "def buil_graph_out(IO):\n",
    "    graph_out = {} \n",
    "    for i in range(len(IO)):\n",
    "        y = IO[i][1][0]\n",
    "        edges = pos_inps(y)\n",
    "        graph_out[i] = (IO[i][1], edges)\n",
    "    return graph_out"
   ]
  },
  {
   "cell_type": "code",
   "execution_count": 7,
   "metadata": {
    "id": "MZegp71G1Xsw"
   },
   "outputs": [],
   "source": [
    "def build_graph_in(graph_out,C):\n",
    "    graph_in = {}\n",
    "    for i in range(len(C)):\n",
    "        graph_in[i] = (C[i],[])\n",
    "\n",
    "    for i in range(len(graph_out)):\n",
    "        for j in range(len(graph_out[i][1])):\n",
    "            graph_in[bin_dec(graph_out[i][1][j])][1].append((graph_out[i][0],i))\n",
    "  \n",
    "    return graph_in"
   ]
  },
  {
   "cell_type": "code",
   "execution_count": 8,
   "metadata": {
    "id": "iqh4PkGsr4xy"
   },
   "outputs": [],
   "source": [
    "def ers_eq(a,b):\n",
    "    for i in range(len(a)):\n",
    "        if a[i]!= \"*\" and b[i]!= \"*\":\n",
    "            if a[i]!=b[i]:\n",
    "                return 0\n",
    "            \n",
    "    return 1 \n",
    "    \n",
    "\n",
    "def peel(graph_in_org,graph_out_org,N,x,Ex):\n",
    "\n",
    "    for j in range(len(Ex)):\n",
    "        y = Ex[j][0][0]\n",
    "        d_dash = Ex[j][0][1]\n",
    "        index_out = Ex[j][1]\n",
    "        tup = ((y,d_dash),index_out)\n",
    "        Ey = graph_out_org[index_out][1]\n",
    "\n",
    "        for x_dash in Ey:\n",
    "            if x_dash!=x:\n",
    "                Ex_dash = graph_in_org[bin_dec(x_dash)][1]\n",
    "                if tup in Ex_dash:\n",
    "                    Ex_dash.remove(tup)\n",
    "        Ey = [x]\n",
    "        \n",
    "\n",
    "def prune(graph_in_org,graph_out_org,x,Ex,dg_dash):\n",
    "    i = 0\n",
    "    for _ in range(len(Ex)):\n",
    "        d_dash = Ex[i][0][1]\n",
    "        index_out = Ex[i][1]\n",
    "        if(ers_eq(dg_dash,d_dash)==0):\n",
    "            Ex.pop(i)\n",
    "            graph_out_org[index_out][1].remove(x)\n",
    "            i=i-1\n",
    "        i +=1\n",
    "\n",
    "def pel_algo(graph_in_org,graph_out_org,N,n,CNT):\n",
    "    degx_dict = {}\n",
    "    mark = np.zeros(len(graph_in_org))\n",
    "    for c in range(CNT):\n",
    "        degx_dict[c] = {}\n",
    "        \n",
    "        for i in range(len(graph_in_org)):\n",
    "            if mark[i] == 0 :\n",
    "                par_good = 0        \n",
    "                x = graph_in_org[i][0]\n",
    "                Ex = graph_in_org[i][1]\n",
    "                degx_dict[c][i] = len(Ex)\n",
    "\n",
    "                for j in range(len(Ex)):\n",
    "                        index_out = Ex[j][1]\n",
    "                        if len(graph_out_org[index_out][1]) == 1 :\n",
    "                            par_good = 1\n",
    "                            dg_dash = Ex[j][0][1]\n",
    "\n",
    "                if par_good ==1:\n",
    "                    prune(graph_in_org,graph_out_org,x,Ex,dg_dash)\n",
    "                \n",
    "                if len(Ex) == N:\n",
    "                    peel(graph_in_org,graph_out_org,N,x,Ex)\n",
    "                    mark[i] = 1                    \n",
    "                \n",
    "    return degx_dict, graph_in_org, graph_out_org"
   ]
  },
  {
   "cell_type": "code",
   "execution_count": 9,
   "metadata": {},
   "outputs": [],
   "source": [
    "n = 6\n",
    "p = 0.6\n",
    "cons = math.log(math.sqrt(2)/(math.sqrt(2)-1),math.e)\n",
    "N = math.ceil(1/(n*p*((1-p)**(n-1))))\n",
    "C = bin_space_gen(n)\n",
    "L = 100\n",
    "D = gen_data(C,L)\n",
    "Y,IO = ers_chan(N,D,p)\n",
    "\n",
    "graph_out_org = buil_graph_out(IO)\n",
    "graph_in_org = build_graph_in(graph_out_org,C)\n",
    "\n",
    "CNT = n+4\n",
    "degx_dict, pel_graph_in_org, pel_graph_out_org = pel_algo(copy.deepcopy(graph_in_org),copy.deepcopy(graph_out_org),N,n,CNT)"
   ]
  },
  {
   "cell_type": "code",
   "execution_count": 10,
   "metadata": {},
   "outputs": [
    {
     "name": "stdout",
     "output_type": "stream",
     "text": [
      "0.0\n",
      "0.078125\n",
      "0.171875\n",
      "0.25\n",
      "0.265625\n",
      "0.265625\n",
      "0.265625\n",
      "0.265625\n",
      "0.265625\n",
      "0.265625\n"
     ]
    }
   ],
   "source": [
    "for c in range(CNT):\n",
    "    print(1 - len(degx_dict[c])/(len(graph_in_org)))"
   ]
  },
  {
   "cell_type": "code",
   "execution_count": 46,
   "metadata": {},
   "outputs": [
    {
     "data": {
      "text/plain": [
       "28"
      ]
     },
     "execution_count": 46,
     "metadata": {},
     "output_type": "execute_result"
    }
   ],
   "source": [
    "N"
   ]
  },
  {
   "cell_type": "code",
   "execution_count": 49,
   "metadata": {},
   "outputs": [
    {
     "data": {
      "text/plain": [
       "1.2279471772995154"
      ]
     },
     "execution_count": 49,
     "metadata": {},
     "output_type": "execute_result"
    }
   ],
   "source": [
    "math.log(math.sqrt(2)/(math.sqrt(2)-1),math.e)"
   ]
  },
  {
   "cell_type": "code",
   "execution_count": null,
   "metadata": {},
   "outputs": [],
   "source": []
  },
  {
   "cell_type": "code",
   "execution_count": null,
   "metadata": {},
   "outputs": [],
   "source": []
  },
  {
   "cell_type": "code",
   "execution_count": 29,
   "metadata": {},
   "outputs": [
    {
     "name": "stdout",
     "output_type": "stream",
     "text": [
      "32\n",
      "1 1.0\n"
     ]
    },
    {
     "ename": "KeyboardInterrupt",
     "evalue": "",
     "output_type": "error",
     "traceback": [
      "\u001b[0;31m---------------------------------------------------------------------------\u001b[0m",
      "\u001b[0;31mKeyboardInterrupt\u001b[0m                         Traceback (most recent call last)",
      "Input \u001b[0;32mIn [29]\u001b[0m, in \u001b[0;36m<cell line: 12>\u001b[0;34m()\u001b[0m\n\u001b[1;32m     17\u001b[0m graph_in_org \u001b[38;5;241m=\u001b[39m build_graph_in(graph_out_org,C)\n\u001b[1;32m     19\u001b[0m CNT \u001b[38;5;241m=\u001b[39m n\u001b[38;5;241m+\u001b[39m\u001b[38;5;241m4\u001b[39m\n\u001b[0;32m---> 20\u001b[0m degx_dict, pel_graph_in_org, pel_graph_out_org \u001b[38;5;241m=\u001b[39m \u001b[43mpel_algo\u001b[49m\u001b[43m(\u001b[49m\u001b[43mcopy\u001b[49m\u001b[38;5;241;43m.\u001b[39;49m\u001b[43mdeepcopy\u001b[49m\u001b[43m(\u001b[49m\u001b[43mgraph_in_org\u001b[49m\u001b[43m)\u001b[49m\u001b[43m,\u001b[49m\u001b[43mcopy\u001b[49m\u001b[38;5;241;43m.\u001b[39;49m\u001b[43mdeepcopy\u001b[49m\u001b[43m(\u001b[49m\u001b[43mgraph_out_org\u001b[49m\u001b[43m)\u001b[49m\u001b[43m,\u001b[49m\u001b[43mN\u001b[49m\u001b[43m,\u001b[49m\u001b[43mn\u001b[49m\u001b[43m,\u001b[49m\u001b[43mCNT\u001b[49m\u001b[43m)\u001b[49m\n\u001b[1;32m     22\u001b[0m CNVRG \u001b[38;5;241m+\u001b[39m\u001b[38;5;241m=\u001b[39m \u001b[38;5;241m1\u001b[39m \u001b[38;5;241m-\u001b[39m \u001b[38;5;28mlen\u001b[39m(degx_dict[CNT\u001b[38;5;241m-\u001b[39m\u001b[38;5;241m1\u001b[39m])\u001b[38;5;241m/\u001b[39m(\u001b[38;5;28mlen\u001b[39m(graph_in_org))\n",
      "Input \u001b[0;32mIn [8]\u001b[0m, in \u001b[0;36mpel_algo\u001b[0;34m(graph_in_org, graph_out_org, N, n, CNT)\u001b[0m\n\u001b[1;32m     58\u001b[0m                 prune(graph_in_org,graph_out_org,x,Ex,dg_dash)\n\u001b[1;32m     60\u001b[0m             \u001b[38;5;28;01mif\u001b[39;00m \u001b[38;5;28mlen\u001b[39m(Ex) \u001b[38;5;241m==\u001b[39m N:\n\u001b[0;32m---> 61\u001b[0m                 \u001b[43mpeel\u001b[49m\u001b[43m(\u001b[49m\u001b[43mgraph_in_org\u001b[49m\u001b[43m,\u001b[49m\u001b[43mgraph_out_org\u001b[49m\u001b[43m,\u001b[49m\u001b[43mN\u001b[49m\u001b[43m,\u001b[49m\u001b[43mx\u001b[49m\u001b[43m,\u001b[49m\u001b[43mEx\u001b[49m\u001b[43m)\u001b[49m\n\u001b[1;32m     62\u001b[0m                 mark[i] \u001b[38;5;241m=\u001b[39m \u001b[38;5;241m1\u001b[39m                    \n\u001b[1;32m     64\u001b[0m \u001b[38;5;28;01mreturn\u001b[39;00m degx_dict, graph_in_org, graph_out_org\n",
      "Input \u001b[0;32mIn [8]\u001b[0m, in \u001b[0;36mpeel\u001b[0;34m(graph_in_org, graph_out_org, N, x, Ex)\u001b[0m\n\u001b[1;32m     21\u001b[0m         Ex_dash \u001b[38;5;241m=\u001b[39m graph_in_org[bin_dec(x_dash)][\u001b[38;5;241m1\u001b[39m]\n\u001b[1;32m     22\u001b[0m         \u001b[38;5;28;01mif\u001b[39;00m tup \u001b[38;5;129;01min\u001b[39;00m Ex_dash:\n\u001b[0;32m---> 23\u001b[0m             \u001b[43mEx_dash\u001b[49m\u001b[38;5;241;43m.\u001b[39;49m\u001b[43mremove\u001b[49m\u001b[43m(\u001b[49m\u001b[43mtup\u001b[49m\u001b[43m)\u001b[49m\n\u001b[1;32m     24\u001b[0m Ey \u001b[38;5;241m=\u001b[39m [x]\n",
      "\u001b[0;31mKeyboardInterrupt\u001b[0m: "
     ]
    }
   ],
   "source": [
    "n = 8\n",
    "p = 0.5\n",
    "cons = math.log(math.sqrt(2)/(math.sqrt(2)-1),math.e)\n",
    "N = math.ceil(1/(n*p*((1-p)**(n-1))))\n",
    "C = bin_space_gen(n)\n",
    "L = 100\n",
    "D = gen_data(C,L)\n",
    "print(N)\n",
    "TEST = 102\n",
    "CNVRG = 0\n",
    "\n",
    "for test in range(TEST):\n",
    "    if test%10 == 1:\n",
    "        print(test, CNVRG/test)\n",
    "    Y,IO = ers_chan(N,D,p)\n",
    "    graph_out_org = buil_graph_out(IO)\n",
    "    graph_in_org = build_graph_in(graph_out_org,C)\n",
    "\n",
    "    CNT = n+4\n",
    "    degx_dict, pel_graph_in_org, pel_graph_out_org = pel_algo(copy.deepcopy(graph_in_org),copy.deepcopy(graph_out_org),N,n,CNT)\n",
    "    \n",
    "    CNVRG += 1 - len(degx_dict[CNT-1])/(len(graph_in_org))"
   ]
  },
  {
   "cell_type": "code",
   "execution_count": null,
   "metadata": {},
   "outputs": [],
   "source": [
    "N"
   ]
  },
  {
   "cell_type": "code",
   "execution_count": 21,
   "metadata": {},
   "outputs": [
    {
     "name": "stdout",
     "output_type": "stream",
     "text": [
      "1 0.01953125\n",
      "11 0.020596590909090908\n"
     ]
    },
    {
     "ename": "KeyboardInterrupt",
     "evalue": "",
     "output_type": "error",
     "traceback": [
      "\u001b[0;31m---------------------------------------------------------------------------\u001b[0m",
      "\u001b[0;31mKeyboardInterrupt\u001b[0m                         Traceback (most recent call last)",
      "Input \u001b[0;32mIn [21]\u001b[0m, in \u001b[0;36m<cell line: 12>\u001b[0;34m()\u001b[0m\n\u001b[1;32m     15\u001b[0m Y,IO \u001b[38;5;241m=\u001b[39m ers_chan(N,D,p)\n\u001b[1;32m     16\u001b[0m graph_out_org \u001b[38;5;241m=\u001b[39m buil_graph_out(IO)\n\u001b[0;32m---> 17\u001b[0m graph_in_org \u001b[38;5;241m=\u001b[39m \u001b[43mbuild_graph_in\u001b[49m\u001b[43m(\u001b[49m\u001b[43mgraph_out_org\u001b[49m\u001b[43m,\u001b[49m\u001b[43mC\u001b[49m\u001b[43m)\u001b[49m\n\u001b[1;32m     19\u001b[0m CNT \u001b[38;5;241m=\u001b[39m n\u001b[38;5;241m+\u001b[39m\u001b[38;5;241m4\u001b[39m\n\u001b[1;32m     20\u001b[0m degx_dict, pel_graph_in_org, pel_graph_out_org \u001b[38;5;241m=\u001b[39m pel_algo(copy\u001b[38;5;241m.\u001b[39mdeepcopy(graph_in_org),copy\u001b[38;5;241m.\u001b[39mdeepcopy(graph_out_org),N,n,CNT)\n",
      "Input \u001b[0;32mIn [7]\u001b[0m, in \u001b[0;36mbuild_graph_in\u001b[0;34m(graph_out, C)\u001b[0m\n\u001b[1;32m      6\u001b[0m \u001b[38;5;28;01mfor\u001b[39;00m i \u001b[38;5;129;01min\u001b[39;00m \u001b[38;5;28mrange\u001b[39m(\u001b[38;5;28mlen\u001b[39m(graph_out)):\n\u001b[1;32m      7\u001b[0m     \u001b[38;5;28;01mfor\u001b[39;00m j \u001b[38;5;129;01min\u001b[39;00m \u001b[38;5;28mrange\u001b[39m(\u001b[38;5;28mlen\u001b[39m(graph_out[i][\u001b[38;5;241m1\u001b[39m])):\n\u001b[0;32m----> 8\u001b[0m         graph_in[\u001b[43mbin_dec\u001b[49m\u001b[43m(\u001b[49m\u001b[43mgraph_out\u001b[49m\u001b[43m[\u001b[49m\u001b[43mi\u001b[49m\u001b[43m]\u001b[49m\u001b[43m[\u001b[49m\u001b[38;5;241;43m1\u001b[39;49m\u001b[43m]\u001b[49m\u001b[43m[\u001b[49m\u001b[43mj\u001b[49m\u001b[43m]\u001b[49m\u001b[43m)\u001b[49m][\u001b[38;5;241m1\u001b[39m]\u001b[38;5;241m.\u001b[39mappend((graph_out[i][\u001b[38;5;241m0\u001b[39m],i))\n\u001b[1;32m     10\u001b[0m \u001b[38;5;28;01mreturn\u001b[39;00m graph_in\n",
      "Input \u001b[0;32mIn [6]\u001b[0m, in \u001b[0;36mbin_dec\u001b[0;34m(y)\u001b[0m\n\u001b[0;32m----> 1\u001b[0m \u001b[38;5;28;01mdef\u001b[39;00m \u001b[38;5;21mbin_dec\u001b[39m(y):\n\u001b[1;32m      2\u001b[0m   y_dec \u001b[38;5;241m=\u001b[39m \u001b[38;5;241m0\u001b[39m\n\u001b[1;32m      3\u001b[0m   \u001b[38;5;28;01mfor\u001b[39;00m i \u001b[38;5;129;01min\u001b[39;00m \u001b[38;5;28mrange\u001b[39m(\u001b[38;5;28mlen\u001b[39m(y)):\n",
      "\u001b[0;31mKeyboardInterrupt\u001b[0m: "
     ]
    }
   ],
   "source": [
    "n = 10\n",
    "p = 0.4\n",
    "cons = math.log(math.sqrt(2)/(math.sqrt(2)-1),math.e)\n",
    "N = math.ceil((1+0.1)/(n*n*p*((1-p)**(n-1))))\n",
    "C = bin_space_gen(n)\n",
    "L = 100\n",
    "D = gen_data(C,L)\n",
    "\n",
    "TEST = 102\n",
    "CNVRG = 0\n",
    "\n",
    "for test in range(TEST):\n",
    "    if test%10 == 1:\n",
    "        print(test, CNVRG/test)\n",
    "    Y,IO = ers_chan(N,D,p)\n",
    "    graph_out_org = buil_graph_out(IO)\n",
    "    graph_in_org = build_graph_in(graph_out_org,C)\n",
    "\n",
    "    CNT = n+4\n",
    "    degx_dict, pel_graph_in_org, pel_graph_out_org = pel_algo(copy.deepcopy(graph_in_org),copy.deepcopy(graph_out_org),N,n,CNT)\n",
    "    \n",
    "    CNVRG += 1 - len(degx_dict[CNT-1])/(len(graph_in_org))"
   ]
  },
  {
   "cell_type": "code",
   "execution_count": null,
   "metadata": {},
   "outputs": [],
   "source": [
    "N"
   ]
  },
  {
   "cell_type": "code",
   "execution_count": 70,
   "metadata": {},
   "outputs": [
    {
     "name": "stdout",
     "output_type": "stream",
     "text": [
      "1 1.0\n",
      "11 1.0\n",
      "21 1.0\n",
      "31 1.0\n",
      "41 1.0\n",
      "51 1.0\n",
      "61 1.0\n",
      "71 1.0\n",
      "81 1.0\n",
      "91 1.0\n",
      "101 1.0\n"
     ]
    }
   ],
   "source": [
    "n = 6\n",
    "p = 0.4\n",
    "cons = math.log(math.sqrt(2)/(math.sqrt(2)-1),math.e)\n",
    "N = math.ceil((cons)/(n*p*((1-p)**(n-1))))\n",
    "C = bin_space_gen(n)\n",
    "L = 100\n",
    "D = gen_data(C,L)\n",
    "\n",
    "TEST = 102\n",
    "CNVRG = 0\n",
    "\n",
    "for test in range(TEST):\n",
    "    if test%10 == 1:\n",
    "        print(test, CNVRG/test)\n",
    "    Y,IO = ers_chan(N,D,p)\n",
    "    graph_out_org = buil_graph_out(IO)\n",
    "    graph_in_org = build_graph_in(graph_out_org,C)\n",
    "\n",
    "    CNT = n+4\n",
    "    degx_dict, pel_graph_in_org, pel_graph_out_org = pel_algo(copy.deepcopy(graph_in_org),copy.deepcopy(graph_out_org),N,n,CNT)\n",
    "    \n",
    "    CNVRG += 1 - len(degx_dict[CNT-1])/(len(graph_in_org))"
   ]
  },
  {
   "cell_type": "code",
   "execution_count": null,
   "metadata": {},
   "outputs": [],
   "source": []
  }
 ],
 "metadata": {
  "colab": {
   "collapsed_sections": [],
   "name": "BEE ID.ipynb",
   "provenance": []
  },
  "kernelspec": {
   "display_name": "Python 3 (ipykernel)",
   "language": "python",
   "name": "python3"
  },
  "language_info": {
   "codemirror_mode": {
    "name": "ipython",
    "version": 3
   },
   "file_extension": ".py",
   "mimetype": "text/x-python",
   "name": "python",
   "nbconvert_exporter": "python",
   "pygments_lexer": "ipython3",
   "version": "3.10.6"
  }
 },
 "nbformat": 4,
 "nbformat_minor": 1
}
